{
  "nbformat": 4,
  "nbformat_minor": 0,
  "metadata": {
    "colab": {
      "provenance": [],
      "toc_visible": true,
      "authorship_tag": "ABX9TyNPWdAHk6bGbkg5n3pYDBw8",
      "include_colab_link": true
    },
    "kernelspec": {
      "name": "python3",
      "display_name": "Python 3"
    },
    "language_info": {
      "name": "python"
    }
  },
  "cells": [
    {
      "cell_type": "markdown",
      "metadata": {
        "id": "view-in-github",
        "colab_type": "text"
      },
      "source": [
        "<a href=\"https://colab.research.google.com/github/netrialiarahmi/Detecting-positive-and-negative-sentiments-in-user-reviews/blob/main/Detecting_positive_and_negative_sentiments_in_user_reviews.ipynb\" target=\"_parent\"><img src=\"https://colab.research.google.com/assets/colab-badge.svg\" alt=\"Open In Colab\"/></a>"
      ]
    },
    {
      "cell_type": "markdown",
      "source": [
        "#Prediction Models"
      ],
      "metadata": {
        "id": "-6jAGiFZe0Mc"
      }
    },
    {
      "cell_type": "code",
      "execution_count": null,
      "metadata": {
        "colab": {
          "base_uri": "https://localhost:8080/"
        },
        "id": "DBig-1THnMyB",
        "outputId": "75f55d79-71fe-454c-da8e-926f4b5bebbc"
      },
      "outputs": [
        {
          "output_type": "stream",
          "name": "stdout",
          "text": [
            "Mounted at /content/drive\n"
          ]
        }
      ],
      "source": [
        "import pandas as pd\n",
        "from google.colab import drive\n",
        "drive.mount('/content/drive')\n",
        "\n",
        "d=pd.read_csv('/content/drive/MyDrive/student/student-por.csv',sep=';',header=0)"
      ]
    },
    {
      "cell_type": "code",
      "source": [
        "d['pass']=d.apply(lambda row:1 if (row['G1']+row['G2']+row['G3'])>=35 else 0, axis=1)\n",
        "d=d.drop(['G1','G2','G3'], axis=1)\n",
        "d.head()"
      ],
      "metadata": {
        "colab": {
          "base_uri": "https://localhost:8080/",
          "height": 300
        },
        "id": "E-34jvFhp_f0",
        "outputId": "2e283f67-c1bd-4dd0-df7b-c694d944efbb"
      },
      "execution_count": null,
      "outputs": [
        {
          "output_type": "execute_result",
          "data": {
            "text/plain": [
              "  school sex  age address famsize Pstatus  Medu  Fedu     Mjob      Fjob  ...  \\\n",
              "0     GP   F   18       U     GT3       A     4     4  at_home   teacher  ...   \n",
              "1     GP   F   17       U     GT3       T     1     1  at_home     other  ...   \n",
              "2     GP   F   15       U     LE3       T     1     1  at_home     other  ...   \n",
              "3     GP   F   15       U     GT3       T     4     2   health  services  ...   \n",
              "4     GP   F   16       U     GT3       T     3     3    other     other  ...   \n",
              "\n",
              "  internet romantic  famrel  freetime  goout Dalc Walc health absences pass  \n",
              "0       no       no       4         3      4    1    1      3        4    0  \n",
              "1      yes       no       5         3      3    1    1      3        2    0  \n",
              "2      yes       no       4         3      2    2    3      3        6    1  \n",
              "3      yes      yes       3         2      2    1    1      5        0    1  \n",
              "4       no       no       4         3      2    1    2      5        0    1  \n",
              "\n",
              "[5 rows x 31 columns]"
            ],
            "text/html": [
              "\n",
              "  <div id=\"df-aab82097-b1f2-4005-8070-c98ef25dc07c\">\n",
              "    <div class=\"colab-df-container\">\n",
              "      <div>\n",
              "<style scoped>\n",
              "    .dataframe tbody tr th:only-of-type {\n",
              "        vertical-align: middle;\n",
              "    }\n",
              "\n",
              "    .dataframe tbody tr th {\n",
              "        vertical-align: top;\n",
              "    }\n",
              "\n",
              "    .dataframe thead th {\n",
              "        text-align: right;\n",
              "    }\n",
              "</style>\n",
              "<table border=\"1\" class=\"dataframe\">\n",
              "  <thead>\n",
              "    <tr style=\"text-align: right;\">\n",
              "      <th></th>\n",
              "      <th>school</th>\n",
              "      <th>sex</th>\n",
              "      <th>age</th>\n",
              "      <th>address</th>\n",
              "      <th>famsize</th>\n",
              "      <th>Pstatus</th>\n",
              "      <th>Medu</th>\n",
              "      <th>Fedu</th>\n",
              "      <th>Mjob</th>\n",
              "      <th>Fjob</th>\n",
              "      <th>...</th>\n",
              "      <th>internet</th>\n",
              "      <th>romantic</th>\n",
              "      <th>famrel</th>\n",
              "      <th>freetime</th>\n",
              "      <th>goout</th>\n",
              "      <th>Dalc</th>\n",
              "      <th>Walc</th>\n",
              "      <th>health</th>\n",
              "      <th>absences</th>\n",
              "      <th>pass</th>\n",
              "    </tr>\n",
              "  </thead>\n",
              "  <tbody>\n",
              "    <tr>\n",
              "      <th>0</th>\n",
              "      <td>GP</td>\n",
              "      <td>F</td>\n",
              "      <td>18</td>\n",
              "      <td>U</td>\n",
              "      <td>GT3</td>\n",
              "      <td>A</td>\n",
              "      <td>4</td>\n",
              "      <td>4</td>\n",
              "      <td>at_home</td>\n",
              "      <td>teacher</td>\n",
              "      <td>...</td>\n",
              "      <td>no</td>\n",
              "      <td>no</td>\n",
              "      <td>4</td>\n",
              "      <td>3</td>\n",
              "      <td>4</td>\n",
              "      <td>1</td>\n",
              "      <td>1</td>\n",
              "      <td>3</td>\n",
              "      <td>4</td>\n",
              "      <td>0</td>\n",
              "    </tr>\n",
              "    <tr>\n",
              "      <th>1</th>\n",
              "      <td>GP</td>\n",
              "      <td>F</td>\n",
              "      <td>17</td>\n",
              "      <td>U</td>\n",
              "      <td>GT3</td>\n",
              "      <td>T</td>\n",
              "      <td>1</td>\n",
              "      <td>1</td>\n",
              "      <td>at_home</td>\n",
              "      <td>other</td>\n",
              "      <td>...</td>\n",
              "      <td>yes</td>\n",
              "      <td>no</td>\n",
              "      <td>5</td>\n",
              "      <td>3</td>\n",
              "      <td>3</td>\n",
              "      <td>1</td>\n",
              "      <td>1</td>\n",
              "      <td>3</td>\n",
              "      <td>2</td>\n",
              "      <td>0</td>\n",
              "    </tr>\n",
              "    <tr>\n",
              "      <th>2</th>\n",
              "      <td>GP</td>\n",
              "      <td>F</td>\n",
              "      <td>15</td>\n",
              "      <td>U</td>\n",
              "      <td>LE3</td>\n",
              "      <td>T</td>\n",
              "      <td>1</td>\n",
              "      <td>1</td>\n",
              "      <td>at_home</td>\n",
              "      <td>other</td>\n",
              "      <td>...</td>\n",
              "      <td>yes</td>\n",
              "      <td>no</td>\n",
              "      <td>4</td>\n",
              "      <td>3</td>\n",
              "      <td>2</td>\n",
              "      <td>2</td>\n",
              "      <td>3</td>\n",
              "      <td>3</td>\n",
              "      <td>6</td>\n",
              "      <td>1</td>\n",
              "    </tr>\n",
              "    <tr>\n",
              "      <th>3</th>\n",
              "      <td>GP</td>\n",
              "      <td>F</td>\n",
              "      <td>15</td>\n",
              "      <td>U</td>\n",
              "      <td>GT3</td>\n",
              "      <td>T</td>\n",
              "      <td>4</td>\n",
              "      <td>2</td>\n",
              "      <td>health</td>\n",
              "      <td>services</td>\n",
              "      <td>...</td>\n",
              "      <td>yes</td>\n",
              "      <td>yes</td>\n",
              "      <td>3</td>\n",
              "      <td>2</td>\n",
              "      <td>2</td>\n",
              "      <td>1</td>\n",
              "      <td>1</td>\n",
              "      <td>5</td>\n",
              "      <td>0</td>\n",
              "      <td>1</td>\n",
              "    </tr>\n",
              "    <tr>\n",
              "      <th>4</th>\n",
              "      <td>GP</td>\n",
              "      <td>F</td>\n",
              "      <td>16</td>\n",
              "      <td>U</td>\n",
              "      <td>GT3</td>\n",
              "      <td>T</td>\n",
              "      <td>3</td>\n",
              "      <td>3</td>\n",
              "      <td>other</td>\n",
              "      <td>other</td>\n",
              "      <td>...</td>\n",
              "      <td>no</td>\n",
              "      <td>no</td>\n",
              "      <td>4</td>\n",
              "      <td>3</td>\n",
              "      <td>2</td>\n",
              "      <td>1</td>\n",
              "      <td>2</td>\n",
              "      <td>5</td>\n",
              "      <td>0</td>\n",
              "      <td>1</td>\n",
              "    </tr>\n",
              "  </tbody>\n",
              "</table>\n",
              "<p>5 rows × 31 columns</p>\n",
              "</div>\n",
              "      <button class=\"colab-df-convert\" onclick=\"convertToInteractive('df-aab82097-b1f2-4005-8070-c98ef25dc07c')\"\n",
              "              title=\"Convert this dataframe to an interactive table.\"\n",
              "              style=\"display:none;\">\n",
              "        \n",
              "  <svg xmlns=\"http://www.w3.org/2000/svg\" height=\"24px\"viewBox=\"0 0 24 24\"\n",
              "       width=\"24px\">\n",
              "    <path d=\"M0 0h24v24H0V0z\" fill=\"none\"/>\n",
              "    <path d=\"M18.56 5.44l.94 2.06.94-2.06 2.06-.94-2.06-.94-.94-2.06-.94 2.06-2.06.94zm-11 1L8.5 8.5l.94-2.06 2.06-.94-2.06-.94L8.5 2.5l-.94 2.06-2.06.94zm10 10l.94 2.06.94-2.06 2.06-.94-2.06-.94-.94-2.06-.94 2.06-2.06.94z\"/><path d=\"M17.41 7.96l-1.37-1.37c-.4-.4-.92-.59-1.43-.59-.52 0-1.04.2-1.43.59L10.3 9.45l-7.72 7.72c-.78.78-.78 2.05 0 2.83L4 21.41c.39.39.9.59 1.41.59.51 0 1.02-.2 1.41-.59l7.78-7.78 2.81-2.81c.8-.78.8-2.07 0-2.86zM5.41 20L4 18.59l7.72-7.72 1.47 1.35L5.41 20z\"/>\n",
              "  </svg>\n",
              "      </button>\n",
              "      \n",
              "  <style>\n",
              "    .colab-df-container {\n",
              "      display:flex;\n",
              "      flex-wrap:wrap;\n",
              "      gap: 12px;\n",
              "    }\n",
              "\n",
              "    .colab-df-convert {\n",
              "      background-color: #E8F0FE;\n",
              "      border: none;\n",
              "      border-radius: 50%;\n",
              "      cursor: pointer;\n",
              "      display: none;\n",
              "      fill: #1967D2;\n",
              "      height: 32px;\n",
              "      padding: 0 0 0 0;\n",
              "      width: 32px;\n",
              "    }\n",
              "\n",
              "    .colab-df-convert:hover {\n",
              "      background-color: #E2EBFA;\n",
              "      box-shadow: 0px 1px 2px rgba(60, 64, 67, 0.3), 0px 1px 3px 1px rgba(60, 64, 67, 0.15);\n",
              "      fill: #174EA6;\n",
              "    }\n",
              "\n",
              "    [theme=dark] .colab-df-convert {\n",
              "      background-color: #3B4455;\n",
              "      fill: #D2E3FC;\n",
              "    }\n",
              "\n",
              "    [theme=dark] .colab-df-convert:hover {\n",
              "      background-color: #434B5C;\n",
              "      box-shadow: 0px 1px 3px 1px rgba(0, 0, 0, 0.15);\n",
              "      filter: drop-shadow(0px 1px 2px rgba(0, 0, 0, 0.3));\n",
              "      fill: #FFFFFF;\n",
              "    }\n",
              "  </style>\n",
              "\n",
              "      <script>\n",
              "        const buttonEl =\n",
              "          document.querySelector('#df-aab82097-b1f2-4005-8070-c98ef25dc07c button.colab-df-convert');\n",
              "        buttonEl.style.display =\n",
              "          google.colab.kernel.accessAllowed ? 'block' : 'none';\n",
              "\n",
              "        async function convertToInteractive(key) {\n",
              "          const element = document.querySelector('#df-aab82097-b1f2-4005-8070-c98ef25dc07c');\n",
              "          const dataTable =\n",
              "            await google.colab.kernel.invokeFunction('convertToInteractive',\n",
              "                                                     [key], {});\n",
              "          if (!dataTable) return;\n",
              "\n",
              "          const docLinkHtml = 'Like what you see? Visit the ' +\n",
              "            '<a target=\"_blank\" href=https://colab.research.google.com/notebooks/data_table.ipynb>data table notebook</a>'\n",
              "            + ' to learn more about interactive tables.';\n",
              "          element.innerHTML = '';\n",
              "          dataTable['output_type'] = 'display_data';\n",
              "          await google.colab.output.renderOutput(dataTable, element);\n",
              "          const docLink = document.createElement('div');\n",
              "          docLink.innerHTML = docLinkHtml;\n",
              "          element.appendChild(docLink);\n",
              "        }\n",
              "      </script>\n",
              "    </div>\n",
              "  </div>\n",
              "  "
            ]
          },
          "metadata": {},
          "execution_count": 3
        }
      ]
    },
    {
      "cell_type": "code",
      "source": [
        "d=pd.get_dummies(d, columns=['sex','school','address','famsize','Pstatus','Mjob', 'Fjob',\n",
        "                             'reason','guardian', 'schoolsup', 'famsup', 'paid', 'activities',\n",
        "                             'nursery','higher', 'internet', 'romantic'])\n",
        "d.head()"
      ],
      "metadata": {
        "colab": {
          "base_uri": "https://localhost:8080/",
          "height": 300
        },
        "id": "BuKkxLeLsVuF",
        "outputId": "074d2d4a-7c27-48aa-e9be-1843b47a6527"
      },
      "execution_count": null,
      "outputs": [
        {
          "output_type": "execute_result",
          "data": {
            "text/plain": [
              "   age  Medu  Fedu  traveltime  studytime  failures  famrel  freetime  goout  \\\n",
              "0   18     4     4           2          2         0       4         3      4   \n",
              "1   17     1     1           1          2         0       5         3      3   \n",
              "2   15     1     1           1          2         0       4         3      2   \n",
              "3   15     4     2           1          3         0       3         2      2   \n",
              "4   16     3     3           1          2         0       4         3      2   \n",
              "\n",
              "   Dalc  ...  activities_no  activities_yes  nursery_no  nursery_yes  \\\n",
              "0     1  ...              1               0           0            1   \n",
              "1     1  ...              1               0           1            0   \n",
              "2     2  ...              1               0           0            1   \n",
              "3     1  ...              0               1           0            1   \n",
              "4     1  ...              1               0           0            1   \n",
              "\n",
              "   higher_no  higher_yes  internet_no  internet_yes  romantic_no  romantic_yes  \n",
              "0          0           1            1             0            1             0  \n",
              "1          0           1            0             1            1             0  \n",
              "2          0           1            0             1            1             0  \n",
              "3          0           1            0             1            0             1  \n",
              "4          0           1            1             0            1             0  \n",
              "\n",
              "[5 rows x 57 columns]"
            ],
            "text/html": [
              "\n",
              "  <div id=\"df-5373f870-6bd1-491b-877f-a2f0fa764042\">\n",
              "    <div class=\"colab-df-container\">\n",
              "      <div>\n",
              "<style scoped>\n",
              "    .dataframe tbody tr th:only-of-type {\n",
              "        vertical-align: middle;\n",
              "    }\n",
              "\n",
              "    .dataframe tbody tr th {\n",
              "        vertical-align: top;\n",
              "    }\n",
              "\n",
              "    .dataframe thead th {\n",
              "        text-align: right;\n",
              "    }\n",
              "</style>\n",
              "<table border=\"1\" class=\"dataframe\">\n",
              "  <thead>\n",
              "    <tr style=\"text-align: right;\">\n",
              "      <th></th>\n",
              "      <th>age</th>\n",
              "      <th>Medu</th>\n",
              "      <th>Fedu</th>\n",
              "      <th>traveltime</th>\n",
              "      <th>studytime</th>\n",
              "      <th>failures</th>\n",
              "      <th>famrel</th>\n",
              "      <th>freetime</th>\n",
              "      <th>goout</th>\n",
              "      <th>Dalc</th>\n",
              "      <th>...</th>\n",
              "      <th>activities_no</th>\n",
              "      <th>activities_yes</th>\n",
              "      <th>nursery_no</th>\n",
              "      <th>nursery_yes</th>\n",
              "      <th>higher_no</th>\n",
              "      <th>higher_yes</th>\n",
              "      <th>internet_no</th>\n",
              "      <th>internet_yes</th>\n",
              "      <th>romantic_no</th>\n",
              "      <th>romantic_yes</th>\n",
              "    </tr>\n",
              "  </thead>\n",
              "  <tbody>\n",
              "    <tr>\n",
              "      <th>0</th>\n",
              "      <td>18</td>\n",
              "      <td>4</td>\n",
              "      <td>4</td>\n",
              "      <td>2</td>\n",
              "      <td>2</td>\n",
              "      <td>0</td>\n",
              "      <td>4</td>\n",
              "      <td>3</td>\n",
              "      <td>4</td>\n",
              "      <td>1</td>\n",
              "      <td>...</td>\n",
              "      <td>1</td>\n",
              "      <td>0</td>\n",
              "      <td>0</td>\n",
              "      <td>1</td>\n",
              "      <td>0</td>\n",
              "      <td>1</td>\n",
              "      <td>1</td>\n",
              "      <td>0</td>\n",
              "      <td>1</td>\n",
              "      <td>0</td>\n",
              "    </tr>\n",
              "    <tr>\n",
              "      <th>1</th>\n",
              "      <td>17</td>\n",
              "      <td>1</td>\n",
              "      <td>1</td>\n",
              "      <td>1</td>\n",
              "      <td>2</td>\n",
              "      <td>0</td>\n",
              "      <td>5</td>\n",
              "      <td>3</td>\n",
              "      <td>3</td>\n",
              "      <td>1</td>\n",
              "      <td>...</td>\n",
              "      <td>1</td>\n",
              "      <td>0</td>\n",
              "      <td>1</td>\n",
              "      <td>0</td>\n",
              "      <td>0</td>\n",
              "      <td>1</td>\n",
              "      <td>0</td>\n",
              "      <td>1</td>\n",
              "      <td>1</td>\n",
              "      <td>0</td>\n",
              "    </tr>\n",
              "    <tr>\n",
              "      <th>2</th>\n",
              "      <td>15</td>\n",
              "      <td>1</td>\n",
              "      <td>1</td>\n",
              "      <td>1</td>\n",
              "      <td>2</td>\n",
              "      <td>0</td>\n",
              "      <td>4</td>\n",
              "      <td>3</td>\n",
              "      <td>2</td>\n",
              "      <td>2</td>\n",
              "      <td>...</td>\n",
              "      <td>1</td>\n",
              "      <td>0</td>\n",
              "      <td>0</td>\n",
              "      <td>1</td>\n",
              "      <td>0</td>\n",
              "      <td>1</td>\n",
              "      <td>0</td>\n",
              "      <td>1</td>\n",
              "      <td>1</td>\n",
              "      <td>0</td>\n",
              "    </tr>\n",
              "    <tr>\n",
              "      <th>3</th>\n",
              "      <td>15</td>\n",
              "      <td>4</td>\n",
              "      <td>2</td>\n",
              "      <td>1</td>\n",
              "      <td>3</td>\n",
              "      <td>0</td>\n",
              "      <td>3</td>\n",
              "      <td>2</td>\n",
              "      <td>2</td>\n",
              "      <td>1</td>\n",
              "      <td>...</td>\n",
              "      <td>0</td>\n",
              "      <td>1</td>\n",
              "      <td>0</td>\n",
              "      <td>1</td>\n",
              "      <td>0</td>\n",
              "      <td>1</td>\n",
              "      <td>0</td>\n",
              "      <td>1</td>\n",
              "      <td>0</td>\n",
              "      <td>1</td>\n",
              "    </tr>\n",
              "    <tr>\n",
              "      <th>4</th>\n",
              "      <td>16</td>\n",
              "      <td>3</td>\n",
              "      <td>3</td>\n",
              "      <td>1</td>\n",
              "      <td>2</td>\n",
              "      <td>0</td>\n",
              "      <td>4</td>\n",
              "      <td>3</td>\n",
              "      <td>2</td>\n",
              "      <td>1</td>\n",
              "      <td>...</td>\n",
              "      <td>1</td>\n",
              "      <td>0</td>\n",
              "      <td>0</td>\n",
              "      <td>1</td>\n",
              "      <td>0</td>\n",
              "      <td>1</td>\n",
              "      <td>1</td>\n",
              "      <td>0</td>\n",
              "      <td>1</td>\n",
              "      <td>0</td>\n",
              "    </tr>\n",
              "  </tbody>\n",
              "</table>\n",
              "<p>5 rows × 57 columns</p>\n",
              "</div>\n",
              "      <button class=\"colab-df-convert\" onclick=\"convertToInteractive('df-5373f870-6bd1-491b-877f-a2f0fa764042')\"\n",
              "              title=\"Convert this dataframe to an interactive table.\"\n",
              "              style=\"display:none;\">\n",
              "        \n",
              "  <svg xmlns=\"http://www.w3.org/2000/svg\" height=\"24px\"viewBox=\"0 0 24 24\"\n",
              "       width=\"24px\">\n",
              "    <path d=\"M0 0h24v24H0V0z\" fill=\"none\"/>\n",
              "    <path d=\"M18.56 5.44l.94 2.06.94-2.06 2.06-.94-2.06-.94-.94-2.06-.94 2.06-2.06.94zm-11 1L8.5 8.5l.94-2.06 2.06-.94-2.06-.94L8.5 2.5l-.94 2.06-2.06.94zm10 10l.94 2.06.94-2.06 2.06-.94-2.06-.94-.94-2.06-.94 2.06-2.06.94z\"/><path d=\"M17.41 7.96l-1.37-1.37c-.4-.4-.92-.59-1.43-.59-.52 0-1.04.2-1.43.59L10.3 9.45l-7.72 7.72c-.78.78-.78 2.05 0 2.83L4 21.41c.39.39.9.59 1.41.59.51 0 1.02-.2 1.41-.59l7.78-7.78 2.81-2.81c.8-.78.8-2.07 0-2.86zM5.41 20L4 18.59l7.72-7.72 1.47 1.35L5.41 20z\"/>\n",
              "  </svg>\n",
              "      </button>\n",
              "      \n",
              "  <style>\n",
              "    .colab-df-container {\n",
              "      display:flex;\n",
              "      flex-wrap:wrap;\n",
              "      gap: 12px;\n",
              "    }\n",
              "\n",
              "    .colab-df-convert {\n",
              "      background-color: #E8F0FE;\n",
              "      border: none;\n",
              "      border-radius: 50%;\n",
              "      cursor: pointer;\n",
              "      display: none;\n",
              "      fill: #1967D2;\n",
              "      height: 32px;\n",
              "      padding: 0 0 0 0;\n",
              "      width: 32px;\n",
              "    }\n",
              "\n",
              "    .colab-df-convert:hover {\n",
              "      background-color: #E2EBFA;\n",
              "      box-shadow: 0px 1px 2px rgba(60, 64, 67, 0.3), 0px 1px 3px 1px rgba(60, 64, 67, 0.15);\n",
              "      fill: #174EA6;\n",
              "    }\n",
              "\n",
              "    [theme=dark] .colab-df-convert {\n",
              "      background-color: #3B4455;\n",
              "      fill: #D2E3FC;\n",
              "    }\n",
              "\n",
              "    [theme=dark] .colab-df-convert:hover {\n",
              "      background-color: #434B5C;\n",
              "      box-shadow: 0px 1px 3px 1px rgba(0, 0, 0, 0.15);\n",
              "      filter: drop-shadow(0px 1px 2px rgba(0, 0, 0, 0.3));\n",
              "      fill: #FFFFFF;\n",
              "    }\n",
              "  </style>\n",
              "\n",
              "      <script>\n",
              "        const buttonEl =\n",
              "          document.querySelector('#df-5373f870-6bd1-491b-877f-a2f0fa764042 button.colab-df-convert');\n",
              "        buttonEl.style.display =\n",
              "          google.colab.kernel.accessAllowed ? 'block' : 'none';\n",
              "\n",
              "        async function convertToInteractive(key) {\n",
              "          const element = document.querySelector('#df-5373f870-6bd1-491b-877f-a2f0fa764042');\n",
              "          const dataTable =\n",
              "            await google.colab.kernel.invokeFunction('convertToInteractive',\n",
              "                                                     [key], {});\n",
              "          if (!dataTable) return;\n",
              "\n",
              "          const docLinkHtml = 'Like what you see? Visit the ' +\n",
              "            '<a target=\"_blank\" href=https://colab.research.google.com/notebooks/data_table.ipynb>data table notebook</a>'\n",
              "            + ' to learn more about interactive tables.';\n",
              "          element.innerHTML = '';\n",
              "          dataTable['output_type'] = 'display_data';\n",
              "          await google.colab.output.renderOutput(dataTable, element);\n",
              "          const docLink = document.createElement('div');\n",
              "          docLink.innerHTML = docLinkHtml;\n",
              "          element.appendChild(docLink);\n",
              "        }\n",
              "      </script>\n",
              "    </div>\n",
              "  </div>\n",
              "  "
            ]
          },
          "metadata": {},
          "execution_count": 4
        }
      ]
    },
    {
      "cell_type": "code",
      "source": [
        "d=d.sample(frac=1)\n",
        "d_train=d[:500]\n",
        "d_test=d[500:]\n",
        "\n",
        "d_train_att=d_train.drop(['pass'],axis=1)\n",
        "d_train_pass=d_train['pass']\n",
        "\n",
        "d_test_att=d_test.drop(['pass'],axis=1)\n",
        "d_test_pass=d_test['pass']\n",
        "\n",
        "d_att=d.drop(['pass'], axis=1)\n",
        "d_pass=d['pass']"
      ],
      "metadata": {
        "id": "xUHO3mDSugOf"
      },
      "execution_count": null,
      "outputs": []
    },
    {
      "cell_type": "code",
      "source": [
        "import numpy as np\n",
        "print(\"passing {} out of {} ({}%)\".format(np.sum(d_pass), len(d_pass), round(100*float(np.sum(d_pass))/len(d_pass),2)))"
      ],
      "metadata": {
        "colab": {
          "base_uri": "https://localhost:8080/"
        },
        "id": "mQpf-6qFv06E",
        "outputId": "d5c70637-8b68-46d5-9eee-7f12e0546c50"
      },
      "execution_count": null,
      "outputs": [
        {
          "output_type": "stream",
          "name": "stdout",
          "text": [
            "passing 328 out of 649 (50.54%)\n"
          ]
        }
      ]
    },
    {
      "cell_type": "code",
      "source": [
        "from sklearn import tree\n",
        "t=tree.DecisionTreeClassifier(criterion='entropy', max_depth=5)\n",
        "t=t.fit(d_train_att, d_train_pass)"
      ],
      "metadata": {
        "id": "rO_3Q9Qix3ty"
      },
      "execution_count": null,
      "outputs": []
    },
    {
      "cell_type": "code",
      "source": [
        "import matplotlib.pyplot as plt\n",
        "\n",
        "fig1=plt.figure(1)\n",
        "tree.plot_tree(t)\n",
        "fig1.show()"
      ],
      "metadata": {
        "colab": {
          "base_uri": "https://localhost:8080/",
          "height": 248
        },
        "id": "Ye_Ok7plyFEq",
        "outputId": "ff2e83a9-7fd4-4301-eae8-4c275ee75d50"
      },
      "execution_count": null,
      "outputs": [
        {
          "output_type": "display_data",
          "data": {
            "text/plain": [
              "<Figure size 432x288 with 1 Axes>"
            ],
            "image/png": "[encoded data removed]"
          },
          "metadata": {
            "needs_background": "light"
          }
        }
      ]
    },
    {
      "cell_type": "code",
      "source": [
        "tree.export_graphviz(t,out_file='student-performance.dot', label='all', impurity=False, proportion=True,\n",
        "                     feature_names=list(d_train_att), class_names=['fail', 'pass'],\n",
        "                     filled=True, rounded=True)"
      ],
      "metadata": {
        "id": "jKd6R1XqVK7M"
      },
      "execution_count": null,
      "outputs": []
    },
    {
      "cell_type": "code",
      "source": [
        "t.score(d_test_att,d_test_pass)"
      ],
      "metadata": {
        "colab": {
          "base_uri": "https://localhost:8080/"
        },
        "id": "_J4dkEGsVsYq",
        "outputId": "f102ff42-1ef7-410b-9e19-a7bfae571391"
      },
      "execution_count": null,
      "outputs": [
        {
          "output_type": "execute_result",
          "data": {
            "text/plain": [
              "0.610738255033557"
            ]
          },
          "metadata": {},
          "execution_count": 10
        }
      ]
    },
    {
      "cell_type": "code",
      "source": [
        "from sklearn.model_selection import cross_val_score\n",
        "scores=cross_val_score(t, d_att, d_pass, cv=5)\n",
        "print(\"Accuracy: {} (+/- {})\".format(round(scores.mean(),2), round(scores.std(),2)))"
      ],
      "metadata": {
        "colab": {
          "base_uri": "https://localhost:8080/"
        },
        "id": "PPPOo-ymV263",
        "outputId": "f3d1b633-eaee-4ee9-c665-a375bb37865a"
      },
      "execution_count": null,
      "outputs": [
        {
          "output_type": "stream",
          "name": "stdout",
          "text": [
            "Accuracy: 0.67 (+/- 0.04)\n"
          ]
        }
      ]
    },
    {
      "cell_type": "code",
      "source": [
        "for max_depth in range(1,20):\n",
        "  t=tree.DecisionTreeClassifier(criterion='entropy', max_depth=max_depth)\n",
        "  scores=cross_val_score(t, d_att, d_pass, cv=5)\n",
        "  print(\"Max depth: {}, Accuracy: {} (+/- {}) \".format(round(max_depth,2), round(scores.mean(),2), round(scores.std()*2, 2)))"
      ],
      "metadata": {
        "colab": {
          "base_uri": "https://localhost:8080/"
        },
        "id": "KVUd-uTqWiaN",
        "outputId": "255409da-b95b-4f6e-9d17-79560512d6db"
      },
      "execution_count": null,
      "outputs": [
        {
          "output_type": "stream",
          "name": "stdout",
          "text": [
            "Max depth: 1, Accuracy: 0.64 (+/- 0.05) \n",
            "Max depth: 2, Accuracy: 0.69 (+/- 0.08) \n",
            "Max depth: 3, Accuracy: 0.69 (+/- 0.06) \n",
            "Max depth: 4, Accuracy: 0.69 (+/- 0.08) \n",
            "Max depth: 5, Accuracy: 0.67 (+/- 0.09) \n",
            "Max depth: 6, Accuracy: 0.69 (+/- 0.1) \n",
            "Max depth: 7, Accuracy: 0.69 (+/- 0.09) \n",
            "Max depth: 8, Accuracy: 0.68 (+/- 0.09) \n",
            "Max depth: 9, Accuracy: 0.65 (+/- 0.06) \n",
            "Max depth: 10, Accuracy: 0.68 (+/- 0.06) \n",
            "Max depth: 11, Accuracy: 0.66 (+/- 0.05) \n",
            "Max depth: 12, Accuracy: 0.67 (+/- 0.08) \n",
            "Max depth: 13, Accuracy: 0.65 (+/- 0.05) \n",
            "Max depth: 14, Accuracy: 0.66 (+/- 0.06) \n",
            "Max depth: 15, Accuracy: 0.66 (+/- 0.07) \n",
            "Max depth: 16, Accuracy: 0.66 (+/- 0.07) \n",
            "Max depth: 17, Accuracy: 0.66 (+/- 0.07) \n",
            "Max depth: 18, Accuracy: 0.66 (+/- 0.06) \n",
            "Max depth: 19, Accuracy: 0.65 (+/- 0.08) \n"
          ]
        }
      ]
    },
    {
      "cell_type": "code",
      "source": [
        "depth_acc=np.empty((19,3), float)\n",
        "i=0\n",
        "for max_depth in range (1,20):\n",
        "  t=tree.DecisionTreeClassifier(criterion='entropy', max_depth=max_depth)\n",
        "  scores=cross_val_score(t, d_att, d_pass, cv=5)\n",
        "  depth_acc[i,0]=max_depth\n",
        "  depth_acc[i,1]=scores.mean()\n",
        "  depth_acc[i,2]=scores.std()*2\n",
        "\n",
        "depth_acc"
      ],
      "metadata": {
        "colab": {
          "base_uri": "https://localhost:8080/"
        },
        "id": "ASN-bKEGc6uy",
        "outputId": "51a763e7-ef27-4b37-c75e-5d247c9105bc"
      },
      "execution_count": null,
      "outputs": [
        {
          "output_type": "execute_result",
          "data": {
            "text/plain": [
              "array([[1.90000000e+001, 6.54764460e-001, 6.62556081e-002],\n",
              "       [1.48219694e-323, 1.97626258e-323, 2.47032823e-323],\n",
              "       [2.96439388e-323, 3.45845952e-323, 3.95252517e-323],\n",
              "       [4.44659081e-323, 4.94065646e-323, 5.43472210e-323],\n",
              "       [5.92878775e-323, 6.42285340e-323, 0.00000000e+000],\n",
              "       [4.94065646e-324, 9.88131292e-324, 1.48219694e-323],\n",
              "       [1.97626258e-323, 2.47032823e-323, 2.96439388e-323],\n",
              "       [3.45845952e-323, 3.95252517e-323, 4.44659081e-323],\n",
              "       [4.94065646e-323, 5.43472210e-323, 5.92878775e-323],\n",
              "       [6.42285340e-323, 6.91691904e-323, 7.41098469e-323],\n",
              "       [7.90505033e-323, 8.39911598e-323, 8.89318163e-323],\n",
              "       [9.38724727e-323, 9.88131292e-323, 1.03753786e-322],\n",
              "       [1.08694442e-322, 1.13635099e-322, 1.18575755e-322],\n",
              "       [1.23516411e-322, 1.28457068e-322, 1.33397724e-322],\n",
              "       [1.38338381e-322, 1.43279037e-322, 1.48219694e-322],\n",
              "       [1.53160350e-322, 1.58101007e-322, 1.63041663e-322],\n",
              "       [1.67982320e-322, 1.72922976e-322, 1.77863633e-322],\n",
              "       [1.82804289e-322, 1.87744945e-322, 1.92685602e-322],\n",
              "       [1.97626258e-322, 2.02566915e-322, 2.07507571e-322]])"
            ]
          },
          "metadata": {},
          "execution_count": 13
        }
      ]
    },
    {
      "cell_type": "code",
      "source": [
        "fig,ax=plt.subplots()\n",
        "ax.errorbar(depth_acc[:,0], depth_acc[:,1], yerr=depth_acc[:,2])\n",
        "plt.show()"
      ],
      "metadata": {
        "colab": {
          "base_uri": "https://localhost:8080/",
          "height": 265
        },
        "id": "unomsuqPdwNY",
        "outputId": "0dc94d5c-d73f-421d-b5ef-40824012708c"
      },
      "execution_count": null,
      "outputs": [
        {
          "output_type": "display_data",
          "data": {
            "text/plain": [
              "<Figure size 432x288 with 1 Axes>"
            ],
            "image/png": "[encoded data removed]"
          },
          "metadata": {
            "needs_background": "light"
          }
        }
      ]
    },
    {
      "cell_type": "markdown",
      "source": [
        "#Prediction with Random Forest"
      ],
      "metadata": {
        "id": "5To6-j3ne79L"
      }
    },
    {
      "cell_type": "code",
      "source": [
        "import pandas as pd\n",
        "from google.colab import drive\n",
        "drive.mount('/content/drive')\n",
        "\n",
        "imgatt = pd.read_csv('/content/drive/MyDrive/image_attribute_labels.txt',\n",
        "                     sep='\\s+', header=None, error_bad_lines=False, warn_bad_lines=False,\n",
        "                     usecols=[0,1,2], names=['imgid', 'attid', 'present'])"
      ],
      "metadata": {
        "id": "kJsA3QGbe_zU",
        "colab": {
          "base_uri": "https://localhost:8080/"
        },
        "outputId": "b440face-fa2b-420a-edea-8b5534506b8b"
      },
      "execution_count": null,
      "outputs": [
        {
          "output_type": "stream",
          "name": "stdout",
          "text": [
            "Drive already mounted at /content/drive; to attempt to forcibly remount, call drive.mount(\"/content/drive\", force_remount=True).\n"
          ]
        },
        {
          "output_type": "stream",
          "name": "stderr",
          "text": [
            "/usr/local/lib/python3.7/dist-packages/IPython/core/interactiveshell.py:2882: FutureWarning: The error_bad_lines argument has been deprecated and will be removed in a future version.\n",
            "\n",
            "\n",
            "  exec(code_obj, self.user_global_ns, self.user_ns)\n",
            "/usr/local/lib/python3.7/dist-packages/IPython/core/interactiveshell.py:2882: FutureWarning: The warn_bad_lines argument has been deprecated and will be removed in a future version.\n",
            "\n",
            "\n",
            "  exec(code_obj, self.user_global_ns, self.user_ns)\n"
          ]
        }
      ]
    },
    {
      "cell_type": "code",
      "source": [
        "imgatt.head()"
      ],
      "metadata": {
        "colab": {
          "base_uri": "https://localhost:8080/",
          "height": 206
        },
        "id": "OeraAl4AqOil",
        "outputId": "2f3041c8-3cc0-4640-f834-ad7672414b69"
      },
      "execution_count": null,
      "outputs": [
        {
          "output_type": "execute_result",
          "data": {
            "text/plain": [
              "   imgid  attid  present\n",
              "0      1      1        0\n",
              "1      1      2        0\n",
              "2      1      3        0\n",
              "3      1      4        0\n",
              "4      1      5        1"
            ],
            "text/html": [
              "\n",
              "  <div id=\"df-71646d70-0c8a-49e7-8def-485d03a266d7\">\n",
              "    <div class=\"colab-df-container\">\n",
              "      <div>\n",
              "<style scoped>\n",
              "    .dataframe tbody tr th:only-of-type {\n",
              "        vertical-align: middle;\n",
              "    }\n",
              "\n",
              "    .dataframe tbody tr th {\n",
              "        vertical-align: top;\n",
              "    }\n",
              "\n",
              "    .dataframe thead th {\n",
              "        text-align: right;\n",
              "    }\n",
              "</style>\n",
              "<table border=\"1\" class=\"dataframe\">\n",
              "  <thead>\n",
              "    <tr style=\"text-align: right;\">\n",
              "      <th></th>\n",
              "      <th>imgid</th>\n",
              "      <th>attid</th>\n",
              "      <th>present</th>\n",
              "    </tr>\n",
              "  </thead>\n",
              "  <tbody>\n",
              "    <tr>\n",
              "      <th>0</th>\n",
              "      <td>1</td>\n",
              "      <td>1</td>\n",
              "      <td>0</td>\n",
              "    </tr>\n",
              "    <tr>\n",
              "      <th>1</th>\n",
              "      <td>1</td>\n",
              "      <td>2</td>\n",
              "      <td>0</td>\n",
              "    </tr>\n",
              "    <tr>\n",
              "      <th>2</th>\n",
              "      <td>1</td>\n",
              "      <td>3</td>\n",
              "      <td>0</td>\n",
              "    </tr>\n",
              "    <tr>\n",
              "      <th>3</th>\n",
              "      <td>1</td>\n",
              "      <td>4</td>\n",
              "      <td>0</td>\n",
              "    </tr>\n",
              "    <tr>\n",
              "      <th>4</th>\n",
              "      <td>1</td>\n",
              "      <td>5</td>\n",
              "      <td>1</td>\n",
              "    </tr>\n",
              "  </tbody>\n",
              "</table>\n",
              "</div>\n",
              "      <button class=\"colab-df-convert\" onclick=\"convertToInteractive('df-71646d70-0c8a-49e7-8def-485d03a266d7')\"\n",
              "              title=\"Convert this dataframe to an interactive table.\"\n",
              "              style=\"display:none;\">\n",
              "        \n",
              "  <svg xmlns=\"http://www.w3.org/2000/svg\" height=\"24px\"viewBox=\"0 0 24 24\"\n",
              "       width=\"24px\">\n",
              "    <path d=\"M0 0h24v24H0V0z\" fill=\"none\"/>\n",
              "    <path d=\"M18.56 5.44l.94 2.06.94-2.06 2.06-.94-2.06-.94-.94-2.06-.94 2.06-2.06.94zm-11 1L8.5 8.5l.94-2.06 2.06-.94-2.06-.94L8.5 2.5l-.94 2.06-2.06.94zm10 10l.94 2.06.94-2.06 2.06-.94-2.06-.94-.94-2.06-.94 2.06-2.06.94z\"/><path d=\"M17.41 7.96l-1.37-1.37c-.4-.4-.92-.59-1.43-.59-.52 0-1.04.2-1.43.59L10.3 9.45l-7.72 7.72c-.78.78-.78 2.05 0 2.83L4 21.41c.39.39.9.59 1.41.59.51 0 1.02-.2 1.41-.59l7.78-7.78 2.81-2.81c.8-.78.8-2.07 0-2.86zM5.41 20L4 18.59l7.72-7.72 1.47 1.35L5.41 20z\"/>\n",
              "  </svg>\n",
              "      </button>\n",
              "      \n",
              "  <style>\n",
              "    .colab-df-container {\n",
              "      display:flex;\n",
              "      flex-wrap:wrap;\n",
              "      gap: 12px;\n",
              "    }\n",
              "\n",
              "    .colab-df-convert {\n",
              "      background-color: #E8F0FE;\n",
              "      border: none;\n",
              "      border-radius: 50%;\n",
              "      cursor: pointer;\n",
              "      display: none;\n",
              "      fill: #1967D2;\n",
              "      height: 32px;\n",
              "      padding: 0 0 0 0;\n",
              "      width: 32px;\n",
              "    }\n",
              "\n",
              "    .colab-df-convert:hover {\n",
              "      background-color: #E2EBFA;\n",
              "      box-shadow: 0px 1px 2px rgba(60, 64, 67, 0.3), 0px 1px 3px 1px rgba(60, 64, 67, 0.15);\n",
              "      fill: #174EA6;\n",
              "    }\n",
              "\n",
              "    [theme=dark] .colab-df-convert {\n",
              "      background-color: #3B4455;\n",
              "      fill: #D2E3FC;\n",
              "    }\n",
              "\n",
              "    [theme=dark] .colab-df-convert:hover {\n",
              "      background-color: #434B5C;\n",
              "      box-shadow: 0px 1px 3px 1px rgba(0, 0, 0, 0.15);\n",
              "      filter: drop-shadow(0px 1px 2px rgba(0, 0, 0, 0.3));\n",
              "      fill: #FFFFFF;\n",
              "    }\n",
              "  </style>\n",
              "\n",
              "      <script>\n",
              "        const buttonEl =\n",
              "          document.querySelector('#df-71646d70-0c8a-49e7-8def-485d03a266d7 button.colab-df-convert');\n",
              "        buttonEl.style.display =\n",
              "          google.colab.kernel.accessAllowed ? 'block' : 'none';\n",
              "\n",
              "        async function convertToInteractive(key) {\n",
              "          const element = document.querySelector('#df-71646d70-0c8a-49e7-8def-485d03a266d7');\n",
              "          const dataTable =\n",
              "            await google.colab.kernel.invokeFunction('convertToInteractive',\n",
              "                                                     [key], {});\n",
              "          if (!dataTable) return;\n",
              "\n",
              "          const docLinkHtml = 'Like what you see? Visit the ' +\n",
              "            '<a target=\"_blank\" href=https://colab.research.google.com/notebooks/data_table.ipynb>data table notebook</a>'\n",
              "            + ' to learn more about interactive tables.';\n",
              "          element.innerHTML = '';\n",
              "          dataTable['output_type'] = 'display_data';\n",
              "          await google.colab.output.renderOutput(dataTable, element);\n",
              "          const docLink = document.createElement('div');\n",
              "          docLink.innerHTML = docLinkHtml;\n",
              "          element.appendChild(docLink);\n",
              "        }\n",
              "      </script>\n",
              "    </div>\n",
              "  </div>\n",
              "  "
            ]
          },
          "metadata": {},
          "execution_count": 16
        }
      ]
    },
    {
      "cell_type": "code",
      "source": [
        "imgatt.shape"
      ],
      "metadata": {
        "colab": {
          "base_uri": "https://localhost:8080/"
        },
        "id": "BN_GMzzYqRCI",
        "outputId": "05f3eb75-b86e-412f-95a4-c6c85b1a59e6"
      },
      "execution_count": null,
      "outputs": [
        {
          "output_type": "execute_result",
          "data": {
            "text/plain": [
              "(3677856, 3)"
            ]
          },
          "metadata": {},
          "execution_count": 17
        }
      ]
    },
    {
      "cell_type": "code",
      "source": [
        "imgatt2 = imgatt.pivot(index='imgid', columns='attid', values='present')\n",
        "imgatt2.head()"
      ],
      "metadata": {
        "colab": {
          "base_uri": "https://localhost:8080/",
          "height": 331
        },
        "id": "Y33yQ4abqSIo",
        "outputId": "a54fdebb-5719-4656-d423-54fb868adf57"
      },
      "execution_count": null,
      "outputs": [
        {
          "output_type": "execute_result",
          "data": {
            "text/plain": [
              "attid  1    2    3    4    5    6    7    8    9    10   ...  303  304  305  \\\n",
              "imgid                                                    ...                  \n",
              "1        0    0    0    0    1    0    0    0    0    0  ...    0    0    0   \n",
              "2        0    0    0    0    0    0    0    0    0    0  ...    0    0    0   \n",
              "3        0    0    0    0    1    0    0    0    0    0  ...    0    0    0   \n",
              "4        0    0    0    0    1    0    0    0    0    0  ...    0    0    0   \n",
              "5        0    0    0    0    1    0    0    0    0    0  ...    0    0    1   \n",
              "\n",
              "attid  306  307  308  309  310  311  312  \n",
              "imgid                                     \n",
              "1        0    0    1    0    0    0    0  \n",
              "2        0    0    0    0    0    0    0  \n",
              "3        0    0    1    0    0    1    0  \n",
              "4        1    0    0    1    0    0    0  \n",
              "5        0    0    0    0    0    0    0  \n",
              "\n",
              "[5 rows x 312 columns]"
            ],
            "text/html": [
              "\n",
              "  <div id=\"df-2978f9d0-81a6-498f-b3a9-d1ee45a1e4db\">\n",
              "    <div class=\"colab-df-container\">\n",
              "      <div>\n",
              "<style scoped>\n",
              "    .dataframe tbody tr th:only-of-type {\n",
              "        vertical-align: middle;\n",
              "    }\n",
              "\n",
              "    .dataframe tbody tr th {\n",
              "        vertical-align: top;\n",
              "    }\n",
              "\n",
              "    .dataframe thead th {\n",
              "        text-align: right;\n",
              "    }\n",
              "</style>\n",
              "<table border=\"1\" class=\"dataframe\">\n",
              "  <thead>\n",
              "    <tr style=\"text-align: right;\">\n",
              "      <th>attid</th>\n",
              "      <th>1</th>\n",
              "      <th>2</th>\n",
              "      <th>3</th>\n",
              "      <th>4</th>\n",
              "      <th>5</th>\n",
              "      <th>6</th>\n",
              "      <th>7</th>\n",
              "      <th>8</th>\n",
              "      <th>9</th>\n",
              "      <th>10</th>\n",
              "      <th>...</th>\n",
              "      <th>303</th>\n",
              "      <th>304</th>\n",
              "      <th>305</th>\n",
              "      <th>306</th>\n",
              "      <th>307</th>\n",
              "      <th>308</th>\n",
              "      <th>309</th>\n",
              "      <th>310</th>\n",
              "      <th>311</th>\n",
              "      <th>312</th>\n",
              "    </tr>\n",
              "    <tr>\n",
              "      <th>imgid</th>\n",
              "      <th></th>\n",
              "      <th></th>\n",
              "      <th></th>\n",
              "      <th></th>\n",
              "      <th></th>\n",
              "      <th></th>\n",
              "      <th></th>\n",
              "      <th></th>\n",
              "      <th></th>\n",
              "      <th></th>\n",
              "      <th></th>\n",
              "      <th></th>\n",
              "      <th></th>\n",
              "      <th></th>\n",
              "      <th></th>\n",
              "      <th></th>\n",
              "      <th></th>\n",
              "      <th></th>\n",
              "      <th></th>\n",
              "      <th></th>\n",
              "      <th></th>\n",
              "    </tr>\n",
              "  </thead>\n",
              "  <tbody>\n",
              "    <tr>\n",
              "      <th>1</th>\n",
              "      <td>0</td>\n",
              "      <td>0</td>\n",
              "      <td>0</td>\n",
              "      <td>0</td>\n",
              "      <td>1</td>\n",
              "      <td>0</td>\n",
              "      <td>0</td>\n",
              "      <td>0</td>\n",
              "      <td>0</td>\n",
              "      <td>0</td>\n",
              "      <td>...</td>\n",
              "      <td>0</td>\n",
              "      <td>0</td>\n",
              "      <td>0</td>\n",
              "      <td>0</td>\n",
              "      <td>0</td>\n",
              "      <td>1</td>\n",
              "      <td>0</td>\n",
              "      <td>0</td>\n",
              "      <td>0</td>\n",
              "      <td>0</td>\n",
              "    </tr>\n",
              "    <tr>\n",
              "      <th>2</th>\n",
              "      <td>0</td>\n",
              "      <td>0</td>\n",
              "      <td>0</td>\n",
              "      <td>0</td>\n",
              "      <td>0</td>\n",
              "      <td>0</td>\n",
              "      <td>0</td>\n",
              "      <td>0</td>\n",
              "      <td>0</td>\n",
              "      <td>0</td>\n",
              "      <td>...</td>\n",
              "      <td>0</td>\n",
              "      <td>0</td>\n",
              "      <td>0</td>\n",
              "      <td>0</td>\n",
              "      <td>0</td>\n",
              "      <td>0</td>\n",
              "      <td>0</td>\n",
              "      <td>0</td>\n",
              "      <td>0</td>\n",
              "      <td>0</td>\n",
              "    </tr>\n",
              "    <tr>\n",
              "      <th>3</th>\n",
              "      <td>0</td>\n",
              "      <td>0</td>\n",
              "      <td>0</td>\n",
              "      <td>0</td>\n",
              "      <td>1</td>\n",
              "      <td>0</td>\n",
              "      <td>0</td>\n",
              "      <td>0</td>\n",
              "      <td>0</td>\n",
              "      <td>0</td>\n",
              "      <td>...</td>\n",
              "      <td>0</td>\n",
              "      <td>0</td>\n",
              "      <td>0</td>\n",
              "      <td>0</td>\n",
              "      <td>0</td>\n",
              "      <td>1</td>\n",
              "      <td>0</td>\n",
              "      <td>0</td>\n",
              "      <td>1</td>\n",
              "      <td>0</td>\n",
              "    </tr>\n",
              "    <tr>\n",
              "      <th>4</th>\n",
              "      <td>0</td>\n",
              "      <td>0</td>\n",
              "      <td>0</td>\n",
              "      <td>0</td>\n",
              "      <td>1</td>\n",
              "      <td>0</td>\n",
              "      <td>0</td>\n",
              "      <td>0</td>\n",
              "      <td>0</td>\n",
              "      <td>0</td>\n",
              "      <td>...</td>\n",
              "      <td>0</td>\n",
              "      <td>0</td>\n",
              "      <td>0</td>\n",
              "      <td>1</td>\n",
              "      <td>0</td>\n",
              "      <td>0</td>\n",
              "      <td>1</td>\n",
              "      <td>0</td>\n",
              "      <td>0</td>\n",
              "      <td>0</td>\n",
              "    </tr>\n",
              "    <tr>\n",
              "      <th>5</th>\n",
              "      <td>0</td>\n",
              "      <td>0</td>\n",
              "      <td>0</td>\n",
              "      <td>0</td>\n",
              "      <td>1</td>\n",
              "      <td>0</td>\n",
              "      <td>0</td>\n",
              "      <td>0</td>\n",
              "      <td>0</td>\n",
              "      <td>0</td>\n",
              "      <td>...</td>\n",
              "      <td>0</td>\n",
              "      <td>0</td>\n",
              "      <td>1</td>\n",
              "      <td>0</td>\n",
              "      <td>0</td>\n",
              "      <td>0</td>\n",
              "      <td>0</td>\n",
              "      <td>0</td>\n",
              "      <td>0</td>\n",
              "      <td>0</td>\n",
              "    </tr>\n",
              "  </tbody>\n",
              "</table>\n",
              "<p>5 rows × 312 columns</p>\n",
              "</div>\n",
              "      <button class=\"colab-df-convert\" onclick=\"convertToInteractive('df-2978f9d0-81a6-498f-b3a9-d1ee45a1e4db')\"\n",
              "              title=\"Convert this dataframe to an interactive table.\"\n",
              "              style=\"display:none;\">\n",
              "        \n",
              "  <svg xmlns=\"http://www.w3.org/2000/svg\" height=\"24px\"viewBox=\"0 0 24 24\"\n",
              "       width=\"24px\">\n",
              "    <path d=\"M0 0h24v24H0V0z\" fill=\"none\"/>\n",
              "    <path d=\"M18.56 5.44l.94 2.06.94-2.06 2.06-.94-2.06-.94-.94-2.06-.94 2.06-2.06.94zm-11 1L8.5 8.5l.94-2.06 2.06-.94-2.06-.94L8.5 2.5l-.94 2.06-2.06.94zm10 10l.94 2.06.94-2.06 2.06-.94-2.06-.94-.94-2.06-.94 2.06-2.06.94z\"/><path d=\"M17.41 7.96l-1.37-1.37c-.4-.4-.92-.59-1.43-.59-.52 0-1.04.2-1.43.59L10.3 9.45l-7.72 7.72c-.78.78-.78 2.05 0 2.83L4 21.41c.39.39.9.59 1.41.59.51 0 1.02-.2 1.41-.59l7.78-7.78 2.81-2.81c.8-.78.8-2.07 0-2.86zM5.41 20L4 18.59l7.72-7.72 1.47 1.35L5.41 20z\"/>\n",
              "  </svg>\n",
              "      </button>\n",
              "      \n",
              "  <style>\n",
              "    .colab-df-container {\n",
              "      display:flex;\n",
              "      flex-wrap:wrap;\n",
              "      gap: 12px;\n",
              "    }\n",
              "\n",
              "    .colab-df-convert {\n",
              "      background-color: #E8F0FE;\n",
              "      border: none;\n",
              "      border-radius: 50%;\n",
              "      cursor: pointer;\n",
              "      display: none;\n",
              "      fill: #1967D2;\n",
              "      height: 32px;\n",
              "      padding: 0 0 0 0;\n",
              "      width: 32px;\n",
              "    }\n",
              "\n",
              "    .colab-df-convert:hover {\n",
              "      background-color: #E2EBFA;\n",
              "      box-shadow: 0px 1px 2px rgba(60, 64, 67, 0.3), 0px 1px 3px 1px rgba(60, 64, 67, 0.15);\n",
              "      fill: #174EA6;\n",
              "    }\n",
              "\n",
              "    [theme=dark] .colab-df-convert {\n",
              "      background-color: #3B4455;\n",
              "      fill: #D2E3FC;\n",
              "    }\n",
              "\n",
              "    [theme=dark] .colab-df-convert:hover {\n",
              "      background-color: #434B5C;\n",
              "      box-shadow: 0px 1px 3px 1px rgba(0, 0, 0, 0.15);\n",
              "      filter: drop-shadow(0px 1px 2px rgba(0, 0, 0, 0.3));\n",
              "      fill: #FFFFFF;\n",
              "    }\n",
              "  </style>\n",
              "\n",
              "      <script>\n",
              "        const buttonEl =\n",
              "          document.querySelector('#df-2978f9d0-81a6-498f-b3a9-d1ee45a1e4db button.colab-df-convert');\n",
              "        buttonEl.style.display =\n",
              "          google.colab.kernel.accessAllowed ? 'block' : 'none';\n",
              "\n",
              "        async function convertToInteractive(key) {\n",
              "          const element = document.querySelector('#df-2978f9d0-81a6-498f-b3a9-d1ee45a1e4db');\n",
              "          const dataTable =\n",
              "            await google.colab.kernel.invokeFunction('convertToInteractive',\n",
              "                                                     [key], {});\n",
              "          if (!dataTable) return;\n",
              "\n",
              "          const docLinkHtml = 'Like what you see? Visit the ' +\n",
              "            '<a target=\"_blank\" href=https://colab.research.google.com/notebooks/data_table.ipynb>data table notebook</a>'\n",
              "            + ' to learn more about interactive tables.';\n",
              "          element.innerHTML = '';\n",
              "          dataTable['output_type'] = 'display_data';\n",
              "          await google.colab.output.renderOutput(dataTable, element);\n",
              "          const docLink = document.createElement('div');\n",
              "          docLink.innerHTML = docLinkHtml;\n",
              "          element.appendChild(docLink);\n",
              "        }\n",
              "      </script>\n",
              "    </div>\n",
              "  </div>\n",
              "  "
            ]
          },
          "metadata": {},
          "execution_count": 18
        }
      ]
    },
    {
      "cell_type": "code",
      "source": [
        "imgatt2.shape"
      ],
      "metadata": {
        "colab": {
          "base_uri": "https://localhost:8080/"
        },
        "id": "M7lKfTSeqb6g",
        "outputId": "a75319a7-a9d0-4d32-e060-0d7ad058d443"
      },
      "execution_count": null,
      "outputs": [
        {
          "output_type": "execute_result",
          "data": {
            "text/plain": [
              "(11788, 312)"
            ]
          },
          "metadata": {},
          "execution_count": 19
        }
      ]
    },
    {
      "cell_type": "code",
      "source": [
        "imglabels = pd.read_csv('/content/drive/MyDrive/image_class_labels.txt', \n",
        "                        sep=' ', header=None, names=['imgid', 'label'])\n",
        "imglabels = imglabels.set_index('imgid')"
      ],
      "metadata": {
        "id": "yrEFHhPcqrm3"
      },
      "execution_count": null,
      "outputs": []
    },
    {
      "cell_type": "code",
      "source": [
        "imglabels.head()"
      ],
      "metadata": {
        "colab": {
          "base_uri": "https://localhost:8080/",
          "height": 238
        },
        "id": "qKEb7fF_q9ng",
        "outputId": "7048765f-a116-48b7-c8e1-31805ce73d8a"
      },
      "execution_count": null,
      "outputs": [
        {
          "output_type": "execute_result",
          "data": {
            "text/plain": [
              "       label\n",
              "imgid       \n",
              "1          1\n",
              "2          1\n",
              "3          1\n",
              "4          1\n",
              "5          1"
            ],
            "text/html": [
              "\n",
              "  <div id=\"df-7e663349-0373-4d5a-b39a-cfd942e22ddf\">\n",
              "    <div class=\"colab-df-container\">\n",
              "      <div>\n",
              "<style scoped>\n",
              "    .dataframe tbody tr th:only-of-type {\n",
              "        vertical-align: middle;\n",
              "    }\n",
              "\n",
              "    .dataframe tbody tr th {\n",
              "        vertical-align: top;\n",
              "    }\n",
              "\n",
              "    .dataframe thead th {\n",
              "        text-align: right;\n",
              "    }\n",
              "</style>\n",
              "<table border=\"1\" class=\"dataframe\">\n",
              "  <thead>\n",
              "    <tr style=\"text-align: right;\">\n",
              "      <th></th>\n",
              "      <th>label</th>\n",
              "    </tr>\n",
              "    <tr>\n",
              "      <th>imgid</th>\n",
              "      <th></th>\n",
              "    </tr>\n",
              "  </thead>\n",
              "  <tbody>\n",
              "    <tr>\n",
              "      <th>1</th>\n",
              "      <td>1</td>\n",
              "    </tr>\n",
              "    <tr>\n",
              "      <th>2</th>\n",
              "      <td>1</td>\n",
              "    </tr>\n",
              "    <tr>\n",
              "      <th>3</th>\n",
              "      <td>1</td>\n",
              "    </tr>\n",
              "    <tr>\n",
              "      <th>4</th>\n",
              "      <td>1</td>\n",
              "    </tr>\n",
              "    <tr>\n",
              "      <th>5</th>\n",
              "      <td>1</td>\n",
              "    </tr>\n",
              "  </tbody>\n",
              "</table>\n",
              "</div>\n",
              "      <button class=\"colab-df-convert\" onclick=\"convertToInteractive('df-7e663349-0373-4d5a-b39a-cfd942e22ddf')\"\n",
              "              title=\"Convert this dataframe to an interactive table.\"\n",
              "              style=\"display:none;\">\n",
              "        \n",
              "  <svg xmlns=\"http://www.w3.org/2000/svg\" height=\"24px\"viewBox=\"0 0 24 24\"\n",
              "       width=\"24px\">\n",
              "    <path d=\"M0 0h24v24H0V0z\" fill=\"none\"/>\n",
              "    <path d=\"M18.56 5.44l.94 2.06.94-2.06 2.06-.94-2.06-.94-.94-2.06-.94 2.06-2.06.94zm-11 1L8.5 8.5l.94-2.06 2.06-.94-2.06-.94L8.5 2.5l-.94 2.06-2.06.94zm10 10l.94 2.06.94-2.06 2.06-.94-2.06-.94-.94-2.06-.94 2.06-2.06.94z\"/><path d=\"M17.41 7.96l-1.37-1.37c-.4-.4-.92-.59-1.43-.59-.52 0-1.04.2-1.43.59L10.3 9.45l-7.72 7.72c-.78.78-.78 2.05 0 2.83L4 21.41c.39.39.9.59 1.41.59.51 0 1.02-.2 1.41-.59l7.78-7.78 2.81-2.81c.8-.78.8-2.07 0-2.86zM5.41 20L4 18.59l7.72-7.72 1.47 1.35L5.41 20z\"/>\n",
              "  </svg>\n",
              "      </button>\n",
              "      \n",
              "  <style>\n",
              "    .colab-df-container {\n",
              "      display:flex;\n",
              "      flex-wrap:wrap;\n",
              "      gap: 12px;\n",
              "    }\n",
              "\n",
              "    .colab-df-convert {\n",
              "      background-color: #E8F0FE;\n",
              "      border: none;\n",
              "      border-radius: 50%;\n",
              "      cursor: pointer;\n",
              "      display: none;\n",
              "      fill: #1967D2;\n",
              "      height: 32px;\n",
              "      padding: 0 0 0 0;\n",
              "      width: 32px;\n",
              "    }\n",
              "\n",
              "    .colab-df-convert:hover {\n",
              "      background-color: #E2EBFA;\n",
              "      box-shadow: 0px 1px 2px rgba(60, 64, 67, 0.3), 0px 1px 3px 1px rgba(60, 64, 67, 0.15);\n",
              "      fill: #174EA6;\n",
              "    }\n",
              "\n",
              "    [theme=dark] .colab-df-convert {\n",
              "      background-color: #3B4455;\n",
              "      fill: #D2E3FC;\n",
              "    }\n",
              "\n",
              "    [theme=dark] .colab-df-convert:hover {\n",
              "      background-color: #434B5C;\n",
              "      box-shadow: 0px 1px 3px 1px rgba(0, 0, 0, 0.15);\n",
              "      filter: drop-shadow(0px 1px 2px rgba(0, 0, 0, 0.3));\n",
              "      fill: #FFFFFF;\n",
              "    }\n",
              "  </style>\n",
              "\n",
              "      <script>\n",
              "        const buttonEl =\n",
              "          document.querySelector('#df-7e663349-0373-4d5a-b39a-cfd942e22ddf button.colab-df-convert');\n",
              "        buttonEl.style.display =\n",
              "          google.colab.kernel.accessAllowed ? 'block' : 'none';\n",
              "\n",
              "        async function convertToInteractive(key) {\n",
              "          const element = document.querySelector('#df-7e663349-0373-4d5a-b39a-cfd942e22ddf');\n",
              "          const dataTable =\n",
              "            await google.colab.kernel.invokeFunction('convertToInteractive',\n",
              "                                                     [key], {});\n",
              "          if (!dataTable) return;\n",
              "\n",
              "          const docLinkHtml = 'Like what you see? Visit the ' +\n",
              "            '<a target=\"_blank\" href=https://colab.research.google.com/notebooks/data_table.ipynb>data table notebook</a>'\n",
              "            + ' to learn more about interactive tables.';\n",
              "          element.innerHTML = '';\n",
              "          dataTable['output_type'] = 'display_data';\n",
              "          await google.colab.output.renderOutput(dataTable, element);\n",
              "          const docLink = document.createElement('div');\n",
              "          docLink.innerHTML = docLinkHtml;\n",
              "          element.appendChild(docLink);\n",
              "        }\n",
              "      </script>\n",
              "    </div>\n",
              "  </div>\n",
              "  "
            ]
          },
          "metadata": {},
          "execution_count": 21
        }
      ]
    },
    {
      "cell_type": "code",
      "source": [
        "imglabels.shape"
      ],
      "metadata": {
        "colab": {
          "base_uri": "https://localhost:8080/"
        },
        "id": "vMagvMDxrEqr",
        "outputId": "8e05ac67-561f-4220-ba93-073709f7ce04"
      },
      "execution_count": null,
      "outputs": [
        {
          "output_type": "execute_result",
          "data": {
            "text/plain": [
              "(11788, 1)"
            ]
          },
          "metadata": {},
          "execution_count": 22
        }
      ]
    },
    {
      "cell_type": "code",
      "source": [
        "df = imgatt2.join(imglabels)\n",
        "df = df.sample(frac=1)\n",
        "df_att = df.iloc[:, :312]\n",
        "df_label = df.iloc[:, 312:]"
      ],
      "metadata": {
        "id": "kTo6BoGirIHv"
      },
      "execution_count": null,
      "outputs": []
    },
    {
      "cell_type": "code",
      "source": [
        "df_att.head()"
      ],
      "metadata": {
        "colab": {
          "base_uri": "https://localhost:8080/",
          "height": 331
        },
        "id": "q4VD4T9U_5xC",
        "outputId": "e3da7a9b-6968-42b5-8114-90d4fbb6f537"
      },
      "execution_count": null,
      "outputs": [
        {
          "output_type": "execute_result",
          "data": {
            "text/plain": [
              "       1    2    3    4    5    6    7    8    9    10   ...  303  304  305  \\\n",
              "imgid                                                    ...                  \n",
              "9793     0    0    0    0    0    0    1    0    0    0  ...    0    0    0   \n",
              "6153     0    0    0    0    0    0    0    0    1    0  ...    0    0    1   \n",
              "11069    0    1    0    0    0    0    0    0    0    0  ...    0    0    0   \n",
              "8715     0    1    0    0    0    0    0    0    0    0  ...    0    0    0   \n",
              "3950     0    0    0    1    0    0    0    0    0    0  ...    0    0    1   \n",
              "\n",
              "       306  307  308  309  310  311  312  \n",
              "imgid                                     \n",
              "9793     0    0    0    0    1    0    0  \n",
              "6153     0    0    0    1    0    0    0  \n",
              "11069    0    0    0    1    0    0    0  \n",
              "8715     0    0    1    1    0    0    0  \n",
              "3950     0    0    0    0    0    0    1  \n",
              "\n",
              "[5 rows x 312 columns]"
            ],
            "text/html": [
              "\n",
              "  <div id=\"df-49333b8e-f266-498e-a03d-5e9eecbb6a64\">\n",
              "    <div class=\"colab-df-container\">\n",
              "      <div>\n",
              "<style scoped>\n",
              "    .dataframe tbody tr th:only-of-type {\n",
              "        vertical-align: middle;\n",
              "    }\n",
              "\n",
              "    .dataframe tbody tr th {\n",
              "        vertical-align: top;\n",
              "    }\n",
              "\n",
              "    .dataframe thead th {\n",
              "        text-align: right;\n",
              "    }\n",
              "</style>\n",
              "<table border=\"1\" class=\"dataframe\">\n",
              "  <thead>\n",
              "    <tr style=\"text-align: right;\">\n",
              "      <th></th>\n",
              "      <th>1</th>\n",
              "      <th>2</th>\n",
              "      <th>3</th>\n",
              "      <th>4</th>\n",
              "      <th>5</th>\n",
              "      <th>6</th>\n",
              "      <th>7</th>\n",
              "      <th>8</th>\n",
              "      <th>9</th>\n",
              "      <th>10</th>\n",
              "      <th>...</th>\n",
              "      <th>303</th>\n",
              "      <th>304</th>\n",
              "      <th>305</th>\n",
              "      <th>306</th>\n",
              "      <th>307</th>\n",
              "      <th>308</th>\n",
              "      <th>309</th>\n",
              "      <th>310</th>\n",
              "      <th>311</th>\n",
              "      <th>312</th>\n",
              "    </tr>\n",
              "    <tr>\n",
              "      <th>imgid</th>\n",
              "      <th></th>\n",
              "      <th></th>\n",
              "      <th></th>\n",
              "      <th></th>\n",
              "      <th></th>\n",
              "      <th></th>\n",
              "      <th></th>\n",
              "      <th></th>\n",
              "      <th></th>\n",
              "      <th></th>\n",
              "      <th></th>\n",
              "      <th></th>\n",
              "      <th></th>\n",
              "      <th></th>\n",
              "      <th></th>\n",
              "      <th></th>\n",
              "      <th></th>\n",
              "      <th></th>\n",
              "      <th></th>\n",
              "      <th></th>\n",
              "      <th></th>\n",
              "    </tr>\n",
              "  </thead>\n",
              "  <tbody>\n",
              "    <tr>\n",
              "      <th>9793</th>\n",
              "      <td>0</td>\n",
              "      <td>0</td>\n",
              "      <td>0</td>\n",
              "      <td>0</td>\n",
              "      <td>0</td>\n",
              "      <td>0</td>\n",
              "      <td>1</td>\n",
              "      <td>0</td>\n",
              "      <td>0</td>\n",
              "      <td>0</td>\n",
              "      <td>...</td>\n",
              "      <td>0</td>\n",
              "      <td>0</td>\n",
              "      <td>0</td>\n",
              "      <td>0</td>\n",
              "      <td>0</td>\n",
              "      <td>0</td>\n",
              "      <td>0</td>\n",
              "      <td>1</td>\n",
              "      <td>0</td>\n",
              "      <td>0</td>\n",
              "    </tr>\n",
              "    <tr>\n",
              "      <th>6153</th>\n",
              "      <td>0</td>\n",
              "      <td>0</td>\n",
              "      <td>0</td>\n",
              "      <td>0</td>\n",
              "      <td>0</td>\n",
              "      <td>0</td>\n",
              "      <td>0</td>\n",
              "      <td>0</td>\n",
              "      <td>1</td>\n",
              "      <td>0</td>\n",
              "      <td>...</td>\n",
              "      <td>0</td>\n",
              "      <td>0</td>\n",
              "      <td>1</td>\n",
              "      <td>0</td>\n",
              "      <td>0</td>\n",
              "      <td>0</td>\n",
              "      <td>1</td>\n",
              "      <td>0</td>\n",
              "      <td>0</td>\n",
              "      <td>0</td>\n",
              "    </tr>\n",
              "    <tr>\n",
              "      <th>11069</th>\n",
              "      <td>0</td>\n",
              "      <td>1</td>\n",
              "      <td>0</td>\n",
              "      <td>0</td>\n",
              "      <td>0</td>\n",
              "      <td>0</td>\n",
              "      <td>0</td>\n",
              "      <td>0</td>\n",
              "      <td>0</td>\n",
              "      <td>0</td>\n",
              "      <td>...</td>\n",
              "      <td>0</td>\n",
              "      <td>0</td>\n",
              "      <td>0</td>\n",
              "      <td>0</td>\n",
              "      <td>0</td>\n",
              "      <td>0</td>\n",
              "      <td>1</td>\n",
              "      <td>0</td>\n",
              "      <td>0</td>\n",
              "      <td>0</td>\n",
              "    </tr>\n",
              "    <tr>\n",
              "      <th>8715</th>\n",
              "      <td>0</td>\n",
              "      <td>1</td>\n",
              "      <td>0</td>\n",
              "      <td>0</td>\n",
              "      <td>0</td>\n",
              "      <td>0</td>\n",
              "      <td>0</td>\n",
              "      <td>0</td>\n",
              "      <td>0</td>\n",
              "      <td>0</td>\n",
              "      <td>...</td>\n",
              "      <td>0</td>\n",
              "      <td>0</td>\n",
              "      <td>0</td>\n",
              "      <td>0</td>\n",
              "      <td>0</td>\n",
              "      <td>1</td>\n",
              "      <td>1</td>\n",
              "      <td>0</td>\n",
              "      <td>0</td>\n",
              "      <td>0</td>\n",
              "    </tr>\n",
              "    <tr>\n",
              "      <th>3950</th>\n",
              "      <td>0</td>\n",
              "      <td>0</td>\n",
              "      <td>0</td>\n",
              "      <td>1</td>\n",
              "      <td>0</td>\n",
              "      <td>0</td>\n",
              "      <td>0</td>\n",
              "      <td>0</td>\n",
              "      <td>0</td>\n",
              "      <td>0</td>\n",
              "      <td>...</td>\n",
              "      <td>0</td>\n",
              "      <td>0</td>\n",
              "      <td>1</td>\n",
              "      <td>0</td>\n",
              "      <td>0</td>\n",
              "      <td>0</td>\n",
              "      <td>0</td>\n",
              "      <td>0</td>\n",
              "      <td>0</td>\n",
              "      <td>1</td>\n",
              "    </tr>\n",
              "  </tbody>\n",
              "</table>\n",
              "<p>5 rows × 312 columns</p>\n",
              "</div>\n",
              "      <button class=\"colab-df-convert\" onclick=\"convertToInteractive('df-49333b8e-f266-498e-a03d-5e9eecbb6a64')\"\n",
              "              title=\"Convert this dataframe to an interactive table.\"\n",
              "              style=\"display:none;\">\n",
              "        \n",
              "  <svg xmlns=\"http://www.w3.org/2000/svg\" height=\"24px\"viewBox=\"0 0 24 24\"\n",
              "       width=\"24px\">\n",
              "    <path d=\"M0 0h24v24H0V0z\" fill=\"none\"/>\n",
              "    <path d=\"M18.56 5.44l.94 2.06.94-2.06 2.06-.94-2.06-.94-.94-2.06-.94 2.06-2.06.94zm-11 1L8.5 8.5l.94-2.06 2.06-.94-2.06-.94L8.5 2.5l-.94 2.06-2.06.94zm10 10l.94 2.06.94-2.06 2.06-.94-2.06-.94-.94-2.06-.94 2.06-2.06.94z\"/><path d=\"M17.41 7.96l-1.37-1.37c-.4-.4-.92-.59-1.43-.59-.52 0-1.04.2-1.43.59L10.3 9.45l-7.72 7.72c-.78.78-.78 2.05 0 2.83L4 21.41c.39.39.9.59 1.41.59.51 0 1.02-.2 1.41-.59l7.78-7.78 2.81-2.81c.8-.78.8-2.07 0-2.86zM5.41 20L4 18.59l7.72-7.72 1.47 1.35L5.41 20z\"/>\n",
              "  </svg>\n",
              "      </button>\n",
              "      \n",
              "  <style>\n",
              "    .colab-df-container {\n",
              "      display:flex;\n",
              "      flex-wrap:wrap;\n",
              "      gap: 12px;\n",
              "    }\n",
              "\n",
              "    .colab-df-convert {\n",
              "      background-color: #E8F0FE;\n",
              "      border: none;\n",
              "      border-radius: 50%;\n",
              "      cursor: pointer;\n",
              "      display: none;\n",
              "      fill: #1967D2;\n",
              "      height: 32px;\n",
              "      padding: 0 0 0 0;\n",
              "      width: 32px;\n",
              "    }\n",
              "\n",
              "    .colab-df-convert:hover {\n",
              "      background-color: #E2EBFA;\n",
              "      box-shadow: 0px 1px 2px rgba(60, 64, 67, 0.3), 0px 1px 3px 1px rgba(60, 64, 67, 0.15);\n",
              "      fill: #174EA6;\n",
              "    }\n",
              "\n",
              "    [theme=dark] .colab-df-convert {\n",
              "      background-color: #3B4455;\n",
              "      fill: #D2E3FC;\n",
              "    }\n",
              "\n",
              "    [theme=dark] .colab-df-convert:hover {\n",
              "      background-color: #434B5C;\n",
              "      box-shadow: 0px 1px 3px 1px rgba(0, 0, 0, 0.15);\n",
              "      filter: drop-shadow(0px 1px 2px rgba(0, 0, 0, 0.3));\n",
              "      fill: #FFFFFF;\n",
              "    }\n",
              "  </style>\n",
              "\n",
              "      <script>\n",
              "        const buttonEl =\n",
              "          document.querySelector('#df-49333b8e-f266-498e-a03d-5e9eecbb6a64 button.colab-df-convert');\n",
              "        buttonEl.style.display =\n",
              "          google.colab.kernel.accessAllowed ? 'block' : 'none';\n",
              "\n",
              "        async function convertToInteractive(key) {\n",
              "          const element = document.querySelector('#df-49333b8e-f266-498e-a03d-5e9eecbb6a64');\n",
              "          const dataTable =\n",
              "            await google.colab.kernel.invokeFunction('convertToInteractive',\n",
              "                                                     [key], {});\n",
              "          if (!dataTable) return;\n",
              "\n",
              "          const docLinkHtml = 'Like what you see? Visit the ' +\n",
              "            '<a target=\"_blank\" href=https://colab.research.google.com/notebooks/data_table.ipynb>data table notebook</a>'\n",
              "            + ' to learn more about interactive tables.';\n",
              "          element.innerHTML = '';\n",
              "          dataTable['output_type'] = 'display_data';\n",
              "          await google.colab.output.renderOutput(dataTable, element);\n",
              "          const docLink = document.createElement('div');\n",
              "          docLink.innerHTML = docLinkHtml;\n",
              "          element.appendChild(docLink);\n",
              "        }\n",
              "      </script>\n",
              "    </div>\n",
              "  </div>\n",
              "  "
            ]
          },
          "metadata": {},
          "execution_count": 24
        }
      ]
    },
    {
      "cell_type": "code",
      "source": [
        "df_label.head()"
      ],
      "metadata": {
        "colab": {
          "base_uri": "https://localhost:8080/",
          "height": 238
        },
        "id": "2NbPpFBw_8Ok",
        "outputId": "a62b547d-a36d-4e85-cbcf-588502dd782f"
      },
      "execution_count": null,
      "outputs": [
        {
          "output_type": "execute_result",
          "data": {
            "text/plain": [
              "       label\n",
              "imgid       \n",
              "9793     167\n",
              "6153     106\n",
              "11069    188\n",
              "8715     149\n",
              "3950      68"
            ],
            "text/html": [
              "\n",
              "  <div id=\"df-7dfce8ab-8935-483b-a98a-4ba948e4edfb\">\n",
              "    <div class=\"colab-df-container\">\n",
              "      <div>\n",
              "<style scoped>\n",
              "    .dataframe tbody tr th:only-of-type {\n",
              "        vertical-align: middle;\n",
              "    }\n",
              "\n",
              "    .dataframe tbody tr th {\n",
              "        vertical-align: top;\n",
              "    }\n",
              "\n",
              "    .dataframe thead th {\n",
              "        text-align: right;\n",
              "    }\n",
              "</style>\n",
              "<table border=\"1\" class=\"dataframe\">\n",
              "  <thead>\n",
              "    <tr style=\"text-align: right;\">\n",
              "      <th></th>\n",
              "      <th>label</th>\n",
              "    </tr>\n",
              "    <tr>\n",
              "      <th>imgid</th>\n",
              "      <th></th>\n",
              "    </tr>\n",
              "  </thead>\n",
              "  <tbody>\n",
              "    <tr>\n",
              "      <th>9793</th>\n",
              "      <td>167</td>\n",
              "    </tr>\n",
              "    <tr>\n",
              "      <th>6153</th>\n",
              "      <td>106</td>\n",
              "    </tr>\n",
              "    <tr>\n",
              "      <th>11069</th>\n",
              "      <td>188</td>\n",
              "    </tr>\n",
              "    <tr>\n",
              "      <th>8715</th>\n",
              "      <td>149</td>\n",
              "    </tr>\n",
              "    <tr>\n",
              "      <th>3950</th>\n",
              "      <td>68</td>\n",
              "    </tr>\n",
              "  </tbody>\n",
              "</table>\n",
              "</div>\n",
              "      <button class=\"colab-df-convert\" onclick=\"convertToInteractive('df-7dfce8ab-8935-483b-a98a-4ba948e4edfb')\"\n",
              "              title=\"Convert this dataframe to an interactive table.\"\n",
              "              style=\"display:none;\">\n",
              "        \n",
              "  <svg xmlns=\"http://www.w3.org/2000/svg\" height=\"24px\"viewBox=\"0 0 24 24\"\n",
              "       width=\"24px\">\n",
              "    <path d=\"M0 0h24v24H0V0z\" fill=\"none\"/>\n",
              "    <path d=\"M18.56 5.44l.94 2.06.94-2.06 2.06-.94-2.06-.94-.94-2.06-.94 2.06-2.06.94zm-11 1L8.5 8.5l.94-2.06 2.06-.94-2.06-.94L8.5 2.5l-.94 2.06-2.06.94zm10 10l.94 2.06.94-2.06 2.06-.94-2.06-.94-.94-2.06-.94 2.06-2.06.94z\"/><path d=\"M17.41 7.96l-1.37-1.37c-.4-.4-.92-.59-1.43-.59-.52 0-1.04.2-1.43.59L10.3 9.45l-7.72 7.72c-.78.78-.78 2.05 0 2.83L4 21.41c.39.39.9.59 1.41.59.51 0 1.02-.2 1.41-.59l7.78-7.78 2.81-2.81c.8-.78.8-2.07 0-2.86zM5.41 20L4 18.59l7.72-7.72 1.47 1.35L5.41 20z\"/>\n",
              "  </svg>\n",
              "      </button>\n",
              "      \n",
              "  <style>\n",
              "    .colab-df-container {\n",
              "      display:flex;\n",
              "      flex-wrap:wrap;\n",
              "      gap: 12px;\n",
              "    }\n",
              "\n",
              "    .colab-df-convert {\n",
              "      background-color: #E8F0FE;\n",
              "      border: none;\n",
              "      border-radius: 50%;\n",
              "      cursor: pointer;\n",
              "      display: none;\n",
              "      fill: #1967D2;\n",
              "      height: 32px;\n",
              "      padding: 0 0 0 0;\n",
              "      width: 32px;\n",
              "    }\n",
              "\n",
              "    .colab-df-convert:hover {\n",
              "      background-color: #E2EBFA;\n",
              "      box-shadow: 0px 1px 2px rgba(60, 64, 67, 0.3), 0px 1px 3px 1px rgba(60, 64, 67, 0.15);\n",
              "      fill: #174EA6;\n",
              "    }\n",
              "\n",
              "    [theme=dark] .colab-df-convert {\n",
              "      background-color: #3B4455;\n",
              "      fill: #D2E3FC;\n",
              "    }\n",
              "\n",
              "    [theme=dark] .colab-df-convert:hover {\n",
              "      background-color: #434B5C;\n",
              "      box-shadow: 0px 1px 3px 1px rgba(0, 0, 0, 0.15);\n",
              "      filter: drop-shadow(0px 1px 2px rgba(0, 0, 0, 0.3));\n",
              "      fill: #FFFFFF;\n",
              "    }\n",
              "  </style>\n",
              "\n",
              "      <script>\n",
              "        const buttonEl =\n",
              "          document.querySelector('#df-7dfce8ab-8935-483b-a98a-4ba948e4edfb button.colab-df-convert');\n",
              "        buttonEl.style.display =\n",
              "          google.colab.kernel.accessAllowed ? 'block' : 'none';\n",
              "\n",
              "        async function convertToInteractive(key) {\n",
              "          const element = document.querySelector('#df-7dfce8ab-8935-483b-a98a-4ba948e4edfb');\n",
              "          const dataTable =\n",
              "            await google.colab.kernel.invokeFunction('convertToInteractive',\n",
              "                                                     [key], {});\n",
              "          if (!dataTable) return;\n",
              "\n",
              "          const docLinkHtml = 'Like what you see? Visit the ' +\n",
              "            '<a target=\"_blank\" href=https://colab.research.google.com/notebooks/data_table.ipynb>data table notebook</a>'\n",
              "            + ' to learn more about interactive tables.';\n",
              "          element.innerHTML = '';\n",
              "          dataTable['output_type'] = 'display_data';\n",
              "          await google.colab.output.renderOutput(dataTable, element);\n",
              "          const docLink = document.createElement('div');\n",
              "          docLink.innerHTML = docLinkHtml;\n",
              "          element.appendChild(docLink);\n",
              "        }\n",
              "      </script>\n",
              "    </div>\n",
              "  </div>\n",
              "  "
            ]
          },
          "metadata": {},
          "execution_count": 25
        }
      ]
    },
    {
      "cell_type": "code",
      "source": [
        "df_train_att = df_att[:8000]\n",
        "df_train_label = df_label[:8000]\n",
        "df_test_att = df_att[8000:]\n",
        "df_test_label = df_label[8000:]\n",
        "\n",
        "df_train_label = df_train_label['label']\n",
        "df_test_label = df_test_label['label']"
      ],
      "metadata": {
        "id": "86qjozo5_-jl"
      },
      "execution_count": null,
      "outputs": []
    },
    {
      "cell_type": "code",
      "source": [
        "from sklearn.ensemble import RandomForestClassifier\n",
        "clf = RandomForestClassifier(max_features=50, random_state=0, n_estimators=100)"
      ],
      "metadata": {
        "id": "_emaNqx0AA4K"
      },
      "execution_count": null,
      "outputs": []
    },
    {
      "cell_type": "code",
      "source": [
        "clf.fit(df_train_att, df_train_label)"
      ],
      "metadata": {
        "colab": {
          "base_uri": "https://localhost:8080/"
        },
        "id": "ND8v0M2ACRoZ",
        "outputId": "feeb2dc8-004c-461c-b985-dda3b33e9765"
      },
      "execution_count": null,
      "outputs": [
        {
          "output_type": "execute_result",
          "data": {
            "text/plain": [
              "RandomForestClassifier(max_features=50, random_state=0)"
            ]
          },
          "metadata": {},
          "execution_count": 28
        }
      ]
    },
    {
      "cell_type": "code",
      "source": [
        "print(clf.predict(df_train_att.head()))"
      ],
      "metadata": {
        "colab": {
          "base_uri": "https://localhost:8080/"
        },
        "id": "lwsWNjnSCZUC",
        "outputId": "a6be8991-8022-4cd0-d834-c35de5d7eea8"
      },
      "execution_count": null,
      "outputs": [
        {
          "output_type": "stream",
          "name": "stdout",
          "text": [
            "[167 106 188 149  68]\n"
          ]
        }
      ]
    },
    {
      "cell_type": "code",
      "source": [
        "clf.score(df_test_att, df_test_label)"
      ],
      "metadata": {
        "colab": {
          "base_uri": "https://localhost:8080/"
        },
        "id": "6PcWHEPLCc6k",
        "outputId": "51ac123a-6c4a-40c3-c52e-4b20be6726a2"
      },
      "execution_count": null,
      "outputs": [
        {
          "output_type": "execute_result",
          "data": {
            "text/plain": [
              "0.43954593453009505"
            ]
          },
          "metadata": {},
          "execution_count": 30
        }
      ]
    },
    {
      "cell_type": "code",
      "source": [
        "from sklearn.metrics import confusion_matrix\n",
        "pred_labels = clf.predict(df_test_att)\n",
        "cm = confusion_matrix(df_test_label, pred_labels)"
      ],
      "metadata": {
        "id": "54xTSPcGCmm_"
      },
      "execution_count": null,
      "outputs": []
    },
    {
      "cell_type": "code",
      "source": [
        "cm"
      ],
      "metadata": {
        "colab": {
          "base_uri": "https://localhost:8080/"
        },
        "id": "lgHFCKS9Cora",
        "outputId": "fe36ce5a-9698-437e-fcf3-a7d7003d3807"
      },
      "execution_count": null,
      "outputs": [
        {
          "output_type": "execute_result",
          "data": {
            "text/plain": [
              "array([[ 4,  2,  5, ...,  0,  0,  0],\n",
              "       [ 0, 15,  0, ...,  0,  0,  0],\n",
              "       [ 0,  0,  7, ...,  0,  0,  0],\n",
              "       ...,\n",
              "       [ 0,  0,  0, ...,  3,  0,  0],\n",
              "       [ 0,  0,  0, ...,  0,  5,  0],\n",
              "       [ 0,  0,  0, ...,  0,  0, 18]])"
            ]
          },
          "metadata": {},
          "execution_count": 32
        }
      ]
    },
    {
      "cell_type": "markdown",
      "source": [
        "Two hundred by two hundred is not easy to understand in a numeric form like this.\n",
        "Here's some code from the scikit-learn documentation that allows us to plot the matrix and the color in the matrix"
      ],
      "metadata": {
        "id": "jRwteohpC1eo"
      }
    },
    {
      "cell_type": "code",
      "source": [
        "# from http://scikit-learn.org/stable/auto_examples/model_selection/plot_confusion_matrix.html\n",
        "import matplotlib.pyplot as plt\n",
        "import itertools\n",
        "def plot_confusion_matrix(cm, classes,\n",
        "                          normalize=False,\n",
        "                          title='Confusion matrix',\n",
        "                          cmap=plt.cm.Blues):\n",
        "    \"\"\"\n",
        "    This function prints and plots the confusion matrix.\n",
        "    Normalization can be applied by setting `normalize=True`.\n",
        "    \"\"\"\n",
        "    if normalize:\n",
        "        cm = cm.astype('float') / cm.sum(axis=1)[:, np.newaxis]\n",
        "        print(\"Normalized confusion matrix\")\n",
        "    else:\n",
        "        print('Confusion matrix, without normalization')\n",
        "\n",
        "    print(cm)\n",
        "\n",
        "    plt.imshow(cm, interpolation='nearest', cmap=cmap)\n",
        "    plt.title(title)\n",
        "    #plt.colorbar()\n",
        "    tick_marks = np.arange(len(classes))\n",
        "    plt.xticks(tick_marks, classes, rotation=90)\n",
        "    plt.yticks(tick_marks, classes)\n",
        "\n",
        "    fmt = '.2f' if normalize else 'd'\n",
        "    thresh = cm.max() / 2.\n",
        "    #for i, j in itertools.product(range(cm.shape[0]), range(cm.shape[1])):\n",
        "    #    plt.text(j, i, format(cm[i, j], fmt),\n",
        "    #             horizontalalignment=\"center\",\n",
        "    #             color=\"white\" if cm[i, j] > thresh else \"black\")\n",
        "\n",
        "    plt.tight_layout()\n",
        "    plt.ylabel('True label')\n",
        "    plt.xlabel('Predicted label')"
      ],
      "metadata": {
        "id": "rX9W4xvUCw_w"
      },
      "execution_count": null,
      "outputs": []
    },
    {
      "cell_type": "code",
      "source": [
        "birds=pd.read_csv('/content/drive/MyDrive/classes.txt',\n",
        "              sep='\\s+', header=None, usecols=[1], names=['birdname'])\n",
        "birds = birds['birdname']\n",
        "birds"
      ],
      "metadata": {
        "colab": {
          "base_uri": "https://localhost:8080/"
        },
        "id": "kpdyeFUfC5TC",
        "outputId": "bcaa844b-fdd4-40b9-bb03-51e6b58c4852"
      },
      "execution_count": null,
      "outputs": [
        {
          "output_type": "execute_result",
          "data": {
            "text/plain": [
              "0      001.Black_footed_Albatross\n",
              "1            002.Laysan_Albatross\n",
              "2             003.Sooty_Albatross\n",
              "3           004.Groove_billed_Ani\n",
              "4              005.Crested_Auklet\n",
              "                  ...            \n",
              "195                196.House_Wren\n",
              "196                197.Marsh_Wren\n",
              "197                 198.Rock_Wren\n",
              "198               199.Winter_Wren\n",
              "199       200.Common_Yellowthroat\n",
              "Name: birdname, Length: 200, dtype: object"
            ]
          },
          "metadata": {},
          "execution_count": 34
        }
      ]
    },
    {
      "cell_type": "code",
      "source": [
        "import numpy as np\n",
        "np.set_printoptions(precision=2)\n",
        "plt.figure(figsize=(60,60), dpi=300)\n",
        "plot_confusion_matrix(cm, classes=birds, normalize=True)\n",
        "plt.show()"
      ],
      "metadata": {
        "colab": {
          "base_uri": "https://localhost:8080/"
        },
        "id": "LnmBQeU1Dowa",
        "outputId": "673844ff-b73e-4e68-e4e4-804eb4ecff44"
      },
      "execution_count": null,
      "outputs": [
        {
          "output_type": "stream",
          "name": "stdout",
          "text": [
            "Normalized confusion matrix\n",
            "[[0.26 0.13 0.13 ... 0.   0.   0.  ]\n",
            " [0.   0.67 0.   ... 0.   0.   0.  ]\n",
            " [0.   0.07 0.47 ... 0.   0.   0.  ]\n",
            " ...\n",
            " [0.   0.   0.05 ... 0.1  0.   0.  ]\n",
            " [0.   0.   0.   ... 0.   0.36 0.  ]\n",
            " [0.   0.   0.   ... 0.   0.   0.89]]\n"
          ]
        }
      ]
    },
    {
      "cell_type": "code",
      "source": [
        "from sklearn import tree\n",
        "clftree = tree.DecisionTreeClassifier()\n",
        "clftree.fit(df_train_att, df_train_label)\n",
        "clftree.score(df_test_att, df_test_label)"
      ],
      "metadata": {
        "colab": {
          "base_uri": "https://localhost:8080/"
        },
        "id": "-Tbe3kE4EFBW",
        "outputId": "1e34acdd-6294-49fd-c47d-ab22214f6397"
      },
      "execution_count": null,
      "outputs": [
        {
          "output_type": "execute_result",
          "data": {
            "text/plain": [
              "0.27560718057022177"
            ]
          },
          "metadata": {},
          "execution_count": 37
        }
      ]
    },
    {
      "cell_type": "code",
      "source": [
        "from sklearn import svm\n",
        "clfsvm = svm.SVC()\n",
        "clfsvm.fit(df_train_att, df_train_label)\n",
        "clfsvm.score(df_test_att, df_test_label)"
      ],
      "metadata": {
        "colab": {
          "base_uri": "https://localhost:8080/"
        },
        "id": "xmT5ugl2E-6J",
        "outputId": "494a398a-43c4-419d-bcfa-302003da910c"
      },
      "execution_count": null,
      "outputs": [
        {
          "output_type": "execute_result",
          "data": {
            "text/plain": [
              "0.47624076029567053"
            ]
          },
          "metadata": {},
          "execution_count": 38
        }
      ]
    },
    {
      "cell_type": "code",
      "source": [
        "from sklearn.model_selection import cross_val_score\n",
        "scores = cross_val_score(clf, df_train_att, df_train_label, cv=5)\n",
        "# show average score and +/- two standard deviations away (covering 95% of scores)\n",
        "print(\"Accuracy: %0.2f (+/- %0.2f)\" % (scores.mean(), scores.std() * 2))"
      ],
      "metadata": {
        "colab": {
          "base_uri": "https://localhost:8080/"
        },
        "id": "oSVYNsKlFBq2",
        "outputId": "fa8805b8-739e-4e69-80f1-f269703d35ef"
      },
      "execution_count": null,
      "outputs": [
        {
          "output_type": "stream",
          "name": "stdout",
          "text": [
            "Accuracy: 0.45 (+/- 0.02)\n"
          ]
        }
      ]
    },
    {
      "cell_type": "code",
      "source": [
        "scorestree = cross_val_score(clftree, df_train_att, df_train_label, cv=5)\n",
        "print(\"Accuracy: %0.2f (+/- %0.2f)\" % (scorestree.mean(), scorestree.std() * 2))"
      ],
      "metadata": {
        "colab": {
          "base_uri": "https://localhost:8080/"
        },
        "id": "lyJcf5JdFQ6L",
        "outputId": "4b48d1c3-fa55-4c1e-b455-5b9dc99dccd6"
      },
      "execution_count": null,
      "outputs": [
        {
          "output_type": "stream",
          "name": "stdout",
          "text": [
            "Accuracy: 0.26 (+/- 0.02)\n"
          ]
        }
      ]
    },
    {
      "cell_type": "code",
      "source": [
        "scoressvm = cross_val_score(clfsvm, df_train_att, df_train_label, cv=5)\n",
        "print(\"Accuracy: %0.2f (+/- %0.2f)\" % (scoressvm.mean(), scoressvm.std() * 2))"
      ],
      "metadata": {
        "colab": {
          "base_uri": "https://localhost:8080/"
        },
        "id": "7UwT24NRFSh6",
        "outputId": "7eb2767d-1ed5-48a4-f9c6-3398a6844dd8"
      },
      "execution_count": null,
      "outputs": [
        {
          "output_type": "stream",
          "name": "stdout",
          "text": [
            "Accuracy: 0.47 (+/- 0.02)\n"
          ]
        }
      ]
    },
    {
      "cell_type": "code",
      "source": [
        "max_features_opts = range(5, 50, 5)\n",
        "n_estimators_opts = range(10, 200, 20)\n",
        "rf_params = np.empty((len(max_features_opts)*len(n_estimators_opts),4), float)\n",
        "i = 0\n",
        "for max_features in max_features_opts:\n",
        "    for n_estimators in n_estimators_opts:\n",
        "        clf = RandomForestClassifier(max_features=max_features, n_estimators=n_estimators)\n",
        "        scores = cross_val_score(clf, df_train_att, df_train_label, cv=5)\n",
        "        rf_params[i,0] = max_features\n",
        "        rf_params[i,1] = n_estimators\n",
        "        rf_params[i,2] = scores.mean()\n",
        "        rf_params[i,3] = scores.std() * 2\n",
        "        i += 1\n",
        "        print(\"Max features: %d, num estimators: %d, accuracy: %0.2f (+/- %0.2f)\" % \\\n",
        "              (max_features, n_estimators, scores.mean(), scores.std() * 2))"
      ],
      "metadata": {
        "colab": {
          "base_uri": "https://localhost:8080/"
        },
        "id": "Dq0JWi9OF76c",
        "outputId": "2aa0e20e-5066-4d52-895f-8b6e88a7ca20"
      },
      "execution_count": null,
      "outputs": [
        {
          "output_type": "stream",
          "name": "stdout",
          "text": [
            "Max features: 5, num estimators: 10, accuracy: 0.26 (+/- 0.01)\n",
            "Max features: 5, num estimators: 30, accuracy: 0.35 (+/- 0.02)\n",
            "Max features: 5, num estimators: 50, accuracy: 0.39 (+/- 0.02)\n",
            "Max features: 5, num estimators: 70, accuracy: 0.41 (+/- 0.02)\n",
            "Max features: 5, num estimators: 90, accuracy: 0.42 (+/- 0.03)\n",
            "Max features: 5, num estimators: 110, accuracy: 0.43 (+/- 0.02)\n",
            "Max features: 5, num estimators: 130, accuracy: 0.44 (+/- 0.02)\n",
            "Max features: 5, num estimators: 150, accuracy: 0.44 (+/- 0.03)\n",
            "Max features: 5, num estimators: 170, accuracy: 0.45 (+/- 0.03)\n",
            "Max features: 5, num estimators: 190, accuracy: 0.45 (+/- 0.03)\n",
            "Max features: 10, num estimators: 10, accuracy: 0.30 (+/- 0.03)\n",
            "Max features: 10, num estimators: 30, accuracy: 0.38 (+/- 0.02)\n",
            "Max features: 10, num estimators: 50, accuracy: 0.41 (+/- 0.04)\n",
            "Max features: 10, num estimators: 70, accuracy: 0.43 (+/- 0.03)\n",
            "Max features: 10, num estimators: 90, accuracy: 0.44 (+/- 0.03)\n",
            "Max features: 10, num estimators: 110, accuracy: 0.44 (+/- 0.03)\n",
            "Max features: 10, num estimators: 130, accuracy: 0.45 (+/- 0.02)\n",
            "Max features: 10, num estimators: 150, accuracy: 0.45 (+/- 0.03)\n",
            "Max features: 10, num estimators: 170, accuracy: 0.46 (+/- 0.03)\n",
            "Max features: 10, num estimators: 190, accuracy: 0.45 (+/- 0.02)\n",
            "Max features: 15, num estimators: 10, accuracy: 0.30 (+/- 0.01)\n",
            "Max features: 15, num estimators: 30, accuracy: 0.40 (+/- 0.03)\n",
            "Max features: 15, num estimators: 50, accuracy: 0.42 (+/- 0.02)\n",
            "Max features: 15, num estimators: 70, accuracy: 0.43 (+/- 0.03)\n",
            "Max features: 15, num estimators: 90, accuracy: 0.45 (+/- 0.02)\n",
            "Max features: 15, num estimators: 110, accuracy: 0.45 (+/- 0.02)\n",
            "Max features: 15, num estimators: 130, accuracy: 0.45 (+/- 0.04)\n",
            "Max features: 15, num estimators: 150, accuracy: 0.45 (+/- 0.03)\n",
            "Max features: 15, num estimators: 170, accuracy: 0.46 (+/- 0.03)\n",
            "Max features: 15, num estimators: 190, accuracy: 0.46 (+/- 0.03)\n",
            "Max features: 20, num estimators: 10, accuracy: 0.32 (+/- 0.01)\n",
            "Max features: 20, num estimators: 30, accuracy: 0.39 (+/- 0.01)\n",
            "Max features: 20, num estimators: 50, accuracy: 0.42 (+/- 0.03)\n",
            "Max features: 20, num estimators: 70, accuracy: 0.44 (+/- 0.02)\n",
            "Max features: 20, num estimators: 90, accuracy: 0.45 (+/- 0.03)\n",
            "Max features: 20, num estimators: 110, accuracy: 0.45 (+/- 0.03)\n",
            "Max features: 20, num estimators: 130, accuracy: 0.45 (+/- 0.02)\n",
            "Max features: 20, num estimators: 150, accuracy: 0.46 (+/- 0.02)\n",
            "Max features: 20, num estimators: 170, accuracy: 0.46 (+/- 0.02)\n",
            "Max features: 20, num estimators: 190, accuracy: 0.46 (+/- 0.03)\n",
            "Max features: 25, num estimators: 10, accuracy: 0.33 (+/- 0.03)\n",
            "Max features: 25, num estimators: 30, accuracy: 0.40 (+/- 0.01)\n",
            "Max features: 25, num estimators: 50, accuracy: 0.43 (+/- 0.03)\n",
            "Max features: 25, num estimators: 70, accuracy: 0.44 (+/- 0.03)\n",
            "Max features: 25, num estimators: 90, accuracy: 0.44 (+/- 0.02)\n",
            "Max features: 25, num estimators: 110, accuracy: 0.45 (+/- 0.02)\n",
            "Max features: 25, num estimators: 130, accuracy: 0.45 (+/- 0.02)\n",
            "Max features: 25, num estimators: 150, accuracy: 0.46 (+/- 0.02)\n",
            "Max features: 25, num estimators: 170, accuracy: 0.46 (+/- 0.02)\n",
            "Max features: 25, num estimators: 190, accuracy: 0.46 (+/- 0.04)\n",
            "Max features: 30, num estimators: 10, accuracy: 0.33 (+/- 0.02)\n",
            "Max features: 30, num estimators: 30, accuracy: 0.40 (+/- 0.02)\n",
            "Max features: 30, num estimators: 50, accuracy: 0.43 (+/- 0.03)\n",
            "Max features: 30, num estimators: 70, accuracy: 0.44 (+/- 0.02)\n",
            "Max features: 30, num estimators: 90, accuracy: 0.45 (+/- 0.03)\n",
            "Max features: 30, num estimators: 110, accuracy: 0.45 (+/- 0.03)\n",
            "Max features: 30, num estimators: 130, accuracy: 0.45 (+/- 0.03)\n",
            "Max features: 30, num estimators: 150, accuracy: 0.46 (+/- 0.02)\n",
            "Max features: 30, num estimators: 170, accuracy: 0.46 (+/- 0.02)\n",
            "Max features: 30, num estimators: 190, accuracy: 0.46 (+/- 0.03)\n",
            "Max features: 35, num estimators: 10, accuracy: 0.33 (+/- 0.02)\n",
            "Max features: 35, num estimators: 30, accuracy: 0.41 (+/- 0.02)\n",
            "Max features: 35, num estimators: 50, accuracy: 0.42 (+/- 0.02)\n",
            "Max features: 35, num estimators: 70, accuracy: 0.44 (+/- 0.02)\n",
            "Max features: 35, num estimators: 90, accuracy: 0.45 (+/- 0.03)\n",
            "Max features: 35, num estimators: 110, accuracy: 0.45 (+/- 0.04)\n",
            "Max features: 35, num estimators: 130, accuracy: 0.45 (+/- 0.02)\n",
            "Max features: 35, num estimators: 150, accuracy: 0.46 (+/- 0.03)\n",
            "Max features: 35, num estimators: 170, accuracy: 0.46 (+/- 0.02)\n",
            "Max features: 35, num estimators: 190, accuracy: 0.46 (+/- 0.03)\n",
            "Max features: 40, num estimators: 10, accuracy: 0.34 (+/- 0.02)\n",
            "Max features: 40, num estimators: 30, accuracy: 0.41 (+/- 0.02)\n",
            "Max features: 40, num estimators: 50, accuracy: 0.43 (+/- 0.03)\n",
            "Max features: 40, num estimators: 70, accuracy: 0.44 (+/- 0.02)\n",
            "Max features: 40, num estimators: 90, accuracy: 0.44 (+/- 0.02)\n",
            "Max features: 40, num estimators: 110, accuracy: 0.45 (+/- 0.02)\n",
            "Max features: 40, num estimators: 130, accuracy: 0.45 (+/- 0.02)\n",
            "Max features: 40, num estimators: 150, accuracy: 0.46 (+/- 0.02)\n",
            "Max features: 40, num estimators: 170, accuracy: 0.46 (+/- 0.03)\n",
            "Max features: 40, num estimators: 190, accuracy: 0.46 (+/- 0.02)\n",
            "Max features: 45, num estimators: 10, accuracy: 0.34 (+/- 0.01)\n",
            "Max features: 45, num estimators: 30, accuracy: 0.40 (+/- 0.01)\n",
            "Max features: 45, num estimators: 50, accuracy: 0.43 (+/- 0.02)\n",
            "Max features: 45, num estimators: 70, accuracy: 0.44 (+/- 0.03)\n",
            "Max features: 45, num estimators: 90, accuracy: 0.45 (+/- 0.02)\n",
            "Max features: 45, num estimators: 110, accuracy: 0.45 (+/- 0.02)\n",
            "Max features: 45, num estimators: 130, accuracy: 0.45 (+/- 0.02)\n",
            "Max features: 45, num estimators: 150, accuracy: 0.45 (+/- 0.03)\n",
            "Max features: 45, num estimators: 170, accuracy: 0.46 (+/- 0.02)\n",
            "Max features: 45, num estimators: 190, accuracy: 0.46 (+/- 0.03)\n"
          ]
        }
      ]
    },
    {
      "cell_type": "code",
      "source": [
        "import matplotlib.pyplot as plt\n",
        "from mpl_toolkits.mplot3d import Axes3D\n",
        "from matplotlib import cm\n",
        "fig = plt.figure()\n",
        "fig.clf()\n",
        "ax = fig.gca(projection='3d')\n",
        "x = rf_params[:,0]\n",
        "y = rf_params[:,1]\n",
        "z = rf_params[:,2]\n",
        "ax.scatter(x, y, z)\n",
        "ax.set_zlim(0.2, 0.5)\n",
        "ax.set_xlabel('Max features')\n",
        "ax.set_ylabel('Num estimators')\n",
        "ax.set_zlabel('Avg accuracy')\n",
        "plt.show()"
      ],
      "metadata": {
        "colab": {
          "base_uri": "https://localhost:8080/",
          "height": 248
        },
        "id": "D8nr6Py9F98M",
        "outputId": "29ee4a41-386f-4052-abc1-355a648e76da"
      },
      "execution_count": null,
      "outputs": [
        {
          "output_type": "display_data",
          "data": {
            "text/plain": [
              "<Figure size 432x288 with 1 Axes>"
            ],
            "image/png": "[encoded data removed]"
          },
          "metadata": {
            "needs_background": "light"
          }
        }
      ]
    },
    {
      "cell_type": "markdown",
      "source": [
        "#Applications for Comment Classification\n",
        "Dont forget to:\n",
        "\n",
        "\n",
        "* Lowercase every word\n",
        "* Drop punctuation\n",
        "* Drop very common words (stop words)\n",
        "* Remove plurals (for example, bunnies => bunny)\n",
        "* Perform lemmatization (for example, reader => read, reading = read)\n",
        "* Use n-grams, such as bigrams (two-word pairs) or trigrams\n",
        "* Keep only frequent words (for example, must appear in >10 examples)\n",
        "* Keep only the most frequent M words (for example, keep only 1,000)\n",
        "* Record binary counts (1 = present, 0 = absent) rather than true counts\n",
        "\n"
      ],
      "metadata": {
        "id": "HPAL86LpQCM_"
      }
    },
    {
      "cell_type": "code",
      "source": [
        "import pandas as pd\n",
        "d=pd.read_csv('/content/drive/MyDrive/YouTube-Spam-Collection-v1/Youtube01-Psy.csv')"
      ],
      "metadata": {
        "id": "x_prYj9CiC7A"
      },
      "execution_count": null,
      "outputs": []
    },
    {
      "cell_type": "code",
      "source": [
        "d.tail()"
      ],
      "metadata": {
        "colab": {
          "base_uri": "https://localhost:8080/",
          "height": 704
        },
        "id": "emkj_QPbijpK",
        "outputId": "650f8317-9840-45f6-d62b-c311eb7efa2b"
      },
      "execution_count": null,
      "outputs": [
        {
          "output_type": "execute_result",
          "data": {
            "text/plain": [
              "                                COMMENT_ID  \\\n",
              "345      z13th1q4yzihf1bll23qxzpjeujterydj   \n",
              "346  z13fcn1wfpb5e51xe04chdxakpzgchyaxzo0k   \n",
              "347    z130zd5b3titudkoe04ccbeohojxuzppvbg   \n",
              "348    z12he50arvrkivl5u04cctawgxzkjfsjcc4   \n",
              "349  z13vhvu54u3ewpp5h04ccb4zuoardrmjlyk0k   \n",
              "\n",
              "                                   AUTHOR                 DATE  \\\n",
              "345                       Carmen Racasanu  2014-11-14T13:27:52   \n",
              "346                       diego mogrovejo  2014-11-14T13:28:08   \n",
              "347  BlueYetiPlayz -Call Of Duty and More  2015-05-23T13:04:32   \n",
              "348                          Photo Editor  2015-06-05T14:14:48   \n",
              "349                            Ray Benich  2015-06-05T18:05:16   \n",
              "\n",
              "                                               CONTENT  CLASS  \n",
              "345  How can this have 2 billion views when there's...      0  \n",
              "346         I don't now why I'm watching this in 2014﻿      0  \n",
              "347  subscribe to me for call of duty vids and give...      1  \n",
              "348  hi guys please my android photo editor downloa...      1  \n",
              "349  The first billion viewed this because they tho...      0  "
            ],
            "text/html": [
              "\n",
              "  <div id=\"df-2991940f-6afa-4394-bdca-1571ab44b8ea\">\n",
              "    <div class=\"colab-df-container\">\n",
              "      <div>\n",
              "<style scoped>\n",
              "    .dataframe tbody tr th:only-of-type {\n",
              "        vertical-align: middle;\n",
              "    }\n",
              "\n",
              "    .dataframe tbody tr th {\n",
              "        vertical-align: top;\n",
              "    }\n",
              "\n",
              "    .dataframe thead th {\n",
              "        text-align: right;\n",
              "    }\n",
              "</style>\n",
              "<table border=\"1\" class=\"dataframe\">\n",
              "  <thead>\n",
              "    <tr style=\"text-align: right;\">\n",
              "      <th></th>\n",
              "      <th>COMMENT_ID</th>\n",
              "      <th>AUTHOR</th>\n",
              "      <th>DATE</th>\n",
              "      <th>CONTENT</th>\n",
              "      <th>CLASS</th>\n",
              "    </tr>\n",
              "  </thead>\n",
              "  <tbody>\n",
              "    <tr>\n",
              "      <th>345</th>\n",
              "      <td>z13th1q4yzihf1bll23qxzpjeujterydj</td>\n",
              "      <td>Carmen Racasanu</td>\n",
              "      <td>2014-11-14T13:27:52</td>\n",
              "      <td>How can this have 2 billion views when there's...</td>\n",
              "      <td>0</td>\n",
              "    </tr>\n",
              "    <tr>\n",
              "      <th>346</th>\n",
              "      <td>z13fcn1wfpb5e51xe04chdxakpzgchyaxzo0k</td>\n",
              "      <td>diego mogrovejo</td>\n",
              "      <td>2014-11-14T13:28:08</td>\n",
              "      <td>I don't now why I'm watching this in 2014﻿</td>\n",
              "      <td>0</td>\n",
              "    </tr>\n",
              "    <tr>\n",
              "      <th>347</th>\n",
              "      <td>z130zd5b3titudkoe04ccbeohojxuzppvbg</td>\n",
              "      <td>BlueYetiPlayz -Call Of Duty and More</td>\n",
              "      <td>2015-05-23T13:04:32</td>\n",
              "      <td>subscribe to me for call of duty vids and give...</td>\n",
              "      <td>1</td>\n",
              "    </tr>\n",
              "    <tr>\n",
              "      <th>348</th>\n",
              "      <td>z12he50arvrkivl5u04cctawgxzkjfsjcc4</td>\n",
              "      <td>Photo Editor</td>\n",
              "      <td>2015-06-05T14:14:48</td>\n",
              "      <td>hi guys please my android photo editor downloa...</td>\n",
              "      <td>1</td>\n",
              "    </tr>\n",
              "    <tr>\n",
              "      <th>349</th>\n",
              "      <td>z13vhvu54u3ewpp5h04ccb4zuoardrmjlyk0k</td>\n",
              "      <td>Ray Benich</td>\n",
              "      <td>2015-06-05T18:05:16</td>\n",
              "      <td>The first billion viewed this because they tho...</td>\n",
              "      <td>0</td>\n",
              "    </tr>\n",
              "  </tbody>\n",
              "</table>\n",
              "</div>\n",
              "      <button class=\"colab-df-convert\" onclick=\"convertToInteractive('df-2991940f-6afa-4394-bdca-1571ab44b8ea')\"\n",
              "              title=\"Convert this dataframe to an interactive table.\"\n",
              "              style=\"display:none;\">\n",
              "        \n",
              "  <svg xmlns=\"http://www.w3.org/2000/svg\" height=\"24px\"viewBox=\"0 0 24 24\"\n",
              "       width=\"24px\">\n",
              "    <path d=\"M0 0h24v24H0V0z\" fill=\"none\"/>\n",
              "    <path d=\"M18.56 5.44l.94 2.06.94-2.06 2.06-.94-2.06-.94-.94-2.06-.94 2.06-2.06.94zm-11 1L8.5 8.5l.94-2.06 2.06-.94-2.06-.94L8.5 2.5l-.94 2.06-2.06.94zm10 10l.94 2.06.94-2.06 2.06-.94-2.06-.94-.94-2.06-.94 2.06-2.06.94z\"/><path d=\"M17.41 7.96l-1.37-1.37c-.4-.4-.92-.59-1.43-.59-.52 0-1.04.2-1.43.59L10.3 9.45l-7.72 7.72c-.78.78-.78 2.05 0 2.83L4 21.41c.39.39.9.59 1.41.59.51 0 1.02-.2 1.41-.59l7.78-7.78 2.81-2.81c.8-.78.8-2.07 0-2.86zM5.41 20L4 18.59l7.72-7.72 1.47 1.35L5.41 20z\"/>\n",
              "  </svg>\n",
              "      </button>\n",
              "      \n",
              "  <style>\n",
              "    .colab-df-container {\n",
              "      display:flex;\n",
              "      flex-wrap:wrap;\n",
              "      gap: 12px;\n",
              "    }\n",
              "\n",
              "    .colab-df-convert {\n",
              "      background-color: #E8F0FE;\n",
              "      border: none;\n",
              "      border-radius: 50%;\n",
              "      cursor: pointer;\n",
              "      display: none;\n",
              "      fill: #1967D2;\n",
              "      height: 32px;\n",
              "      padding: 0 0 0 0;\n",
              "      width: 32px;\n",
              "    }\n",
              "\n",
              "    .colab-df-convert:hover {\n",
              "      background-color: #E2EBFA;\n",
              "      box-shadow: 0px 1px 2px rgba(60, 64, 67, 0.3), 0px 1px 3px 1px rgba(60, 64, 67, 0.15);\n",
              "      fill: #174EA6;\n",
              "    }\n",
              "\n",
              "    [theme=dark] .colab-df-convert {\n",
              "      background-color: #3B4455;\n",
              "      fill: #D2E3FC;\n",
              "    }\n",
              "\n",
              "    [theme=dark] .colab-df-convert:hover {\n",
              "      background-color: #434B5C;\n",
              "      box-shadow: 0px 1px 3px 1px rgba(0, 0, 0, 0.15);\n",
              "      filter: drop-shadow(0px 1px 2px rgba(0, 0, 0, 0.3));\n",
              "      fill: #FFFFFF;\n",
              "    }\n",
              "  </style>\n",
              "\n",
              "      <script>\n",
              "        const buttonEl =\n",
              "          document.querySelector('#df-2991940f-6afa-4394-bdca-1571ab44b8ea button.colab-df-convert');\n",
              "        buttonEl.style.display =\n",
              "          google.colab.kernel.accessAllowed ? 'block' : 'none';\n",
              "\n",
              "        async function convertToInteractive(key) {\n",
              "          const element = document.querySelector('#df-2991940f-6afa-4394-bdca-1571ab44b8ea');\n",
              "          const dataTable =\n",
              "            await google.colab.kernel.invokeFunction('convertToInteractive',\n",
              "                                                     [key], {});\n",
              "          if (!dataTable) return;\n",
              "\n",
              "          const docLinkHtml = 'Like what you see? Visit the ' +\n",
              "            '<a target=\"_blank\" href=https://colab.research.google.com/notebooks/data_table.ipynb>data table notebook</a>'\n",
              "            + ' to learn more about interactive tables.';\n",
              "          element.innerHTML = '';\n",
              "          dataTable['output_type'] = 'display_data';\n",
              "          await google.colab.output.renderOutput(dataTable, element);\n",
              "          const docLink = document.createElement('div');\n",
              "          docLink.innerHTML = docLinkHtml;\n",
              "          element.appendChild(docLink);\n",
              "        }\n",
              "      </script>\n",
              "    </div>\n",
              "  </div>\n",
              "  "
            ]
          },
          "metadata": {},
          "execution_count": 6
        }
      ]
    },
    {
      "cell_type": "code",
      "source": [
        "len(d.query('CLASS==1'))"
      ],
      "metadata": {
        "colab": {
          "base_uri": "https://localhost:8080/"
        },
        "id": "ufGUKjnW0uaB",
        "outputId": "8b8bb2a2-422c-4211-fb42-a8452621aebf"
      },
      "execution_count": null,
      "outputs": [
        {
          "output_type": "execute_result",
          "data": {
            "text/plain": [
              "175"
            ]
          },
          "metadata": {},
          "execution_count": 7
        }
      ]
    },
    {
      "cell_type": "code",
      "source": [
        "len(d.query('CLASS==0'))"
      ],
      "metadata": {
        "colab": {
          "base_uri": "https://localhost:8080/"
        },
        "id": "cBgVTP_e1lYD",
        "outputId": "1a9e614d-b151-4e6a-dbb5-498d9b68ff90"
      },
      "execution_count": null,
      "outputs": [
        {
          "output_type": "execute_result",
          "data": {
            "text/plain": [
              "175"
            ]
          },
          "metadata": {},
          "execution_count": 8
        }
      ]
    },
    {
      "cell_type": "code",
      "source": [
        "len(d)"
      ],
      "metadata": {
        "colab": {
          "base_uri": "https://localhost:8080/"
        },
        "id": "iiCOph_m1qj8",
        "outputId": "b7b3715f-7331-4694-95d9-629414dd72b2"
      },
      "execution_count": null,
      "outputs": [
        {
          "output_type": "execute_result",
          "data": {
            "text/plain": [
              "350"
            ]
          },
          "metadata": {},
          "execution_count": 9
        }
      ]
    },
    {
      "cell_type": "code",
      "source": [
        "from sklearn.feature_extraction.text import CountVectorizer\n",
        "vectorizer = CountVectorizer()"
      ],
      "metadata": {
        "id": "oTzPBwgQ2DLp"
      },
      "execution_count": null,
      "outputs": []
    },
    {
      "cell_type": "code",
      "source": [
        "dvec = vectorizer.fit_transform(d['CONTENT'])"
      ],
      "metadata": {
        "id": "7sOCleFG2FVZ"
      },
      "execution_count": null,
      "outputs": []
    },
    {
      "cell_type": "code",
      "source": [
        "dvec"
      ],
      "metadata": {
        "colab": {
          "base_uri": "https://localhost:8080/"
        },
        "id": "CCfe70E52KMb",
        "outputId": "b1a5e3b6-202c-419a-9361-e101d29f7170"
      },
      "execution_count": null,
      "outputs": [
        {
          "output_type": "execute_result",
          "data": {
            "text/plain": [
              "<350x1418 sparse matrix of type '<class 'numpy.int64'>'\n",
              "\twith 4354 stored elements in Compressed Sparse Row format>"
            ]
          },
          "metadata": {},
          "execution_count": 12
        }
      ]
    },
    {
      "cell_type": "code",
      "source": [
        "analyze = vectorizer.build_analyzer()"
      ],
      "metadata": {
        "id": "4t6Z-Rnj2R7p"
      },
      "execution_count": null,
      "outputs": []
    },
    {
      "cell_type": "code",
      "source": [
        "print(d['CONTENT'][349])\n",
        "analyze(d['CONTENT'][349])"
      ],
      "metadata": {
        "colab": {
          "base_uri": "https://localhost:8080/"
        },
        "id": "S3vlvJmI2Twp",
        "outputId": "66375b3c-0972-4522-d19d-b592e669ad2a"
      },
      "execution_count": null,
      "outputs": [
        {
          "output_type": "stream",
          "name": "stdout",
          "text": [
            "The first billion viewed this because they thought it was really cool, the  other billion and a half came to see how stupid the first billion were...﻿\n"
          ]
        },
        {
          "output_type": "execute_result",
          "data": {
            "text/plain": [
              "['the',\n",
              " 'first',\n",
              " 'billion',\n",
              " 'viewed',\n",
              " 'this',\n",
              " 'because',\n",
              " 'they',\n",
              " 'thought',\n",
              " 'it',\n",
              " 'was',\n",
              " 'really',\n",
              " 'cool',\n",
              " 'the',\n",
              " 'other',\n",
              " 'billion',\n",
              " 'and',\n",
              " 'half',\n",
              " 'came',\n",
              " 'to',\n",
              " 'see',\n",
              " 'how',\n",
              " 'stupid',\n",
              " 'the',\n",
              " 'first',\n",
              " 'billion',\n",
              " 'were']"
            ]
          },
          "metadata": {},
          "execution_count": 14
        }
      ]
    },
    {
      "cell_type": "code",
      "source": [
        "vectorizer.get_feature_names()"
      ],
      "metadata": {
        "colab": {
          "base_uri": "https://localhost:8080/"
        },
        "id": "H-lYFFJ72f8m",
        "outputId": "b95ca127-0a26-4f3f-8b1f-a7ae336ad63c"
      },
      "execution_count": null,
      "outputs": [
        {
          "output_type": "stream",
          "name": "stderr",
          "text": [
            "/usr/local/lib/python3.7/dist-packages/sklearn/utils/deprecation.py:87: FutureWarning: Function get_feature_names is deprecated; get_feature_names is deprecated in 1.0 and will be removed in 1.2. Please use get_feature_names_out instead.\n",
            "  warnings.warn(msg, category=FutureWarning)\n"
          ]
        },
        {
          "output_type": "execute_result",
          "data": {
            "text/plain": [
              "['00',\n",
              " '000',\n",
              " '02',\n",
              " '034',\n",
              " '05',\n",
              " '08',\n",
              " '10',\n",
              " '100',\n",
              " '100000415527985',\n",
              " '10200253113705769',\n",
              " '1030',\n",
              " '1073741828',\n",
              " '11',\n",
              " '1111',\n",
              " '112720997191206369631',\n",
              " '12',\n",
              " '123',\n",
              " '124',\n",
              " '124923004',\n",
              " '126',\n",
              " '127',\n",
              " '13017194',\n",
              " '131338190916',\n",
              " '1340488',\n",
              " '1340489',\n",
              " '1340490',\n",
              " '1340491',\n",
              " '1340492',\n",
              " '1340493',\n",
              " '1340494',\n",
              " '1340499',\n",
              " '1340500',\n",
              " '1340502',\n",
              " '1340503',\n",
              " '1340504',\n",
              " '1340517',\n",
              " '1340518',\n",
              " '1340519',\n",
              " '1340520',\n",
              " '1340521',\n",
              " '1340522',\n",
              " '1340523',\n",
              " '1340524',\n",
              " '134470083389909',\n",
              " '1415297812',\n",
              " '1495323920744243',\n",
              " '1496241863981208',\n",
              " '1496273723978022',\n",
              " '1498561870415874',\n",
              " '161620527267482',\n",
              " '171183229277',\n",
              " '19',\n",
              " '19924',\n",
              " '1firo',\n",
              " '1m',\n",
              " '20',\n",
              " '2009',\n",
              " '2012',\n",
              " '2012bitches',\n",
              " '2013',\n",
              " '2014',\n",
              " '201470069872822',\n",
              " '2015',\n",
              " '2017',\n",
              " '210',\n",
              " '23',\n",
              " '24',\n",
              " '24398',\n",
              " '243a',\n",
              " '279',\n",
              " '29',\n",
              " '2b',\n",
              " '2billion',\n",
              " '2x10',\n",
              " '300',\n",
              " '3000',\n",
              " '313327',\n",
              " '315',\n",
              " '322',\n",
              " '33',\n",
              " '33gxrf',\n",
              " '39',\n",
              " '390875584405933',\n",
              " '391725794320912',\n",
              " '40beuutvu2zkxk4utgpz8k',\n",
              " '4436607',\n",
              " '4604617',\n",
              " '48051',\n",
              " '484',\n",
              " '492',\n",
              " '4shared',\n",
              " '4snjqp',\n",
              " '4th',\n",
              " '50',\n",
              " '521',\n",
              " '5242575',\n",
              " '5277478',\n",
              " '5287',\n",
              " '57',\n",
              " '58',\n",
              " '5800',\n",
              " '5af506e1',\n",
              " '5c2f',\n",
              " '5million',\n",
              " '5s',\n",
              " '616375350',\n",
              " '636',\n",
              " '6381501',\n",
              " '694',\n",
              " '700',\n",
              " '733634264',\n",
              " '733949243353321',\n",
              " '734237113324534',\n",
              " '74',\n",
              " '750',\n",
              " '783',\n",
              " '79',\n",
              " '821',\n",
              " '884',\n",
              " '898',\n",
              " '8bit',\n",
              " '9082175',\n",
              " '9107',\n",
              " '9277547',\n",
              " '950',\n",
              " '969',\n",
              " '9bzkp7q19f0',\n",
              " '_0f9fa8aa',\n",
              " '__killuminati94',\n",
              " '_bzszz',\n",
              " '_chris_cz',\n",
              " '_fphgk5zllsvdqv0zuf0mb',\n",
              " '_gibu',\n",
              " '_o3h',\n",
              " '_ry6f57sprnd2xv',\n",
              " '_thqbeum69aqup1ih',\n",
              " '_trksid',\n",
              " '_vlczzrg8vgctlpsd9ongewhj8',\n",
              " 'aaaaaaa',\n",
              " 'able',\n",
              " 'about',\n",
              " 'above',\n",
              " 'absolutely',\n",
              " 'access',\n",
              " 'accessories',\n",
              " 'account',\n",
              " 'accounts',\n",
              " 'acn2g',\n",
              " 'acting',\n",
              " 'active',\n",
              " 'actor',\n",
              " 'actually',\n",
              " 'add',\n",
              " 'adding',\n",
              " 'admit',\n",
              " 'adsense',\n",
              " 'advice',\n",
              " 'affiliateid',\n",
              " 'after',\n",
              " 'again',\n",
              " 'ago',\n",
              " 'ahhh',\n",
              " 'al',\n",
              " 'alive',\n",
              " 'all',\n",
              " 'allot',\n",
              " 'allow',\n",
              " 'allways',\n",
              " 'almond',\n",
              " 'almost',\n",
              " 'alone',\n",
              " 'alot',\n",
              " 'also',\n",
              " 'am',\n",
              " 'amazing',\n",
              " 'amazon',\n",
              " 'america',\n",
              " 'amount',\n",
              " 'amp',\n",
              " 'an',\n",
              " 'ana',\n",
              " 'and',\n",
              " 'andrijamatf',\n",
              " 'android',\n",
              " 'angel',\n",
              " 'angry',\n",
              " 'animations',\n",
              " 'annoying',\n",
              " 'another',\n",
              " 'any',\n",
              " 'anybody',\n",
              " 'anymore',\n",
              " 'anyone',\n",
              " 'anyway',\n",
              " 'apocalypse',\n",
              " 'app',\n",
              " 'apparel',\n",
              " 'apparently',\n",
              " 'appreciate',\n",
              " 'apps',\n",
              " 'are',\n",
              " 'around',\n",
              " 'art',\n",
              " 'as',\n",
              " 'aseris',\n",
              " 'asia',\n",
              " 'asian',\n",
              " 'aspx',\n",
              " 'ass',\n",
              " 'at',\n",
              " 'attention',\n",
              " 'auburn',\n",
              " 'audiojungle',\n",
              " 'auditioning',\n",
              " 'avaaz',\n",
              " 'avoid',\n",
              " 'aw',\n",
              " 'away',\n",
              " 'aways',\n",
              " 'awesome',\n",
              " 'awesomeness',\n",
              " 'b00ecvf93g',\n",
              " 'baby',\n",
              " 'back',\n",
              " 'bad',\n",
              " 'band',\n",
              " 'bass',\n",
              " 'bd3721315',\n",
              " 'be',\n",
              " 'beautiful',\n",
              " 'because',\n",
              " 'been',\n",
              " 'before',\n",
              " 'behind',\n",
              " 'behold',\n",
              " 'beibs',\n",
              " 'being',\n",
              " 'believe',\n",
              " 'best',\n",
              " 'between',\n",
              " 'bf4',\n",
              " 'bieber',\n",
              " 'big',\n",
              " 'bighit',\n",
              " 'bilion',\n",
              " 'billion',\n",
              " 'billions',\n",
              " 'billon',\n",
              " 'binbox',\n",
              " 'bing',\n",
              " 'bit',\n",
              " 'bitch',\n",
              " 'blanc',\n",
              " 'block',\n",
              " 'blue',\n",
              " 'bomb',\n",
              " 'book',\n",
              " 'bother',\n",
              " 'bots',\n",
              " 'bottom',\n",
              " 'bowl',\n",
              " 'boyfriend',\n",
              " 'boys',\n",
              " 'bps',\n",
              " 'br',\n",
              " 'brain',\n",
              " 'brand',\n",
              " 'brew',\n",
              " 'bringing',\n",
              " 'brother',\n",
              " 'brotherhood',\n",
              " 'brothers',\n",
              " 'brt0u5',\n",
              " 'bs',\n",
              " 'bubblews',\n",
              " 'bucket',\n",
              " 'burned',\n",
              " 'but',\n",
              " 'butalabs',\n",
              " 'buy',\n",
              " 'by',\n",
              " 'c349',\n",
              " 'call',\n",
              " 'called',\n",
              " 'came',\n",
              " 'camera',\n",
              " 'can',\n",
              " 'cant',\n",
              " 'capitalized',\n",
              " 'car',\n",
              " 'card',\n",
              " 'cards',\n",
              " 'care',\n",
              " 'caroline',\n",
              " 'cash',\n",
              " 'cats',\n",
              " 'cd92db3f4',\n",
              " 'censor',\n",
              " 'certain',\n",
              " 'chacking',\n",
              " 'chainise',\n",
              " 'challenges',\n",
              " 'chance',\n",
              " 'chanel',\n",
              " 'change',\n",
              " 'chanicka',\n",
              " 'channel',\n",
              " 'channels',\n",
              " 'check',\n",
              " 'checked',\n",
              " 'checking',\n",
              " 'chhanel',\n",
              " 'chick',\n",
              " 'child',\n",
              " 'china',\n",
              " 'chinese',\n",
              " 'ching',\n",
              " 'chiptunes',\n",
              " 'christmas',\n",
              " 'chubbz',\n",
              " 'chuck',\n",
              " 'cirus',\n",
              " 'citizen',\n",
              " 'cjfoftxeba',\n",
              " 'cleaning',\n",
              " 'click',\n",
              " 'clicked',\n",
              " 'clip',\n",
              " 'close',\n",
              " 'clothes',\n",
              " 'clothing',\n",
              " 'co',\n",
              " 'code',\n",
              " 'codes',\n",
              " 'codytolleson',\n",
              " 'college',\n",
              " 'com',\n",
              " 'come',\n",
              " 'comentars',\n",
              " 'comes',\n",
              " 'coming',\n",
              " 'comment',\n",
              " 'comment_id',\n",
              " 'commenting',\n",
              " 'comments',\n",
              " 'commercial',\n",
              " 'company',\n",
              " 'complaining',\n",
              " 'completely',\n",
              " 'concerts',\n",
              " 'condition',\n",
              " 'confidence',\n",
              " 'confirmed',\n",
              " 'connected',\n",
              " 'constructive',\n",
              " 'content',\n",
              " 'cool',\n",
              " 'could',\n",
              " 'count',\n",
              " 'countries',\n",
              " 'cover',\n",
              " 'covers',\n",
              " 'craft',\n",
              " 'crap',\n",
              " 'crazy',\n",
              " 'crdits',\n",
              " 'crea',\n",
              " 'credit',\n",
              " 'crew',\n",
              " 'criticism',\n",
              " 'crop',\n",
              " 'cross',\n",
              " 'crowd',\n",
              " 'cs',\n",
              " 'csgo',\n",
              " 'curled',\n",
              " 'cute',\n",
              " 'cvhmklt',\n",
              " 'cxpzpgb',\n",
              " 'czfcxsn0jnq',\n",
              " 'da',\n",
              " 'daaaaaaaaaaannng',\n",
              " 'dad',\n",
              " 'dafuq',\n",
              " 'daily',\n",
              " 'dance',\n",
              " 'dances',\n",
              " 'dancing',\n",
              " 'day',\n",
              " 'dealing',\n",
              " 'dear',\n",
              " 'december',\n",
              " 'decent',\n",
              " 'dedicated',\n",
              " 'defuse',\n",
              " 'deserve',\n",
              " 'designs',\n",
              " 'details',\n",
              " 'dick',\n",
              " 'did',\n",
              " 'diddle',\n",
              " 'didn',\n",
              " 'die',\n",
              " 'difference',\n",
              " 'difficult',\n",
              " 'dinero',\n",
              " 'ding',\n",
              " 'direction',\n",
              " 'disappointed',\n",
              " 'discover',\n",
              " 'dislike',\n",
              " 'dislikes',\n",
              " 'dislikesssssssssssssssssssssssssssssssss',\n",
              " 'divertenti',\n",
              " 'diys',\n",
              " 'dizzy',\n",
              " 'do',\n",
              " 'does',\n",
              " 'doesn',\n",
              " 'doesnt',\n",
              " 'doing',\n",
              " 'dolacz',\n",
              " 'dominate',\n",
              " 'don',\n",
              " 'donate',\n",
              " 'done',\n",
              " 'dont',\n",
              " 'download',\n",
              " 'downloading',\n",
              " 'dresses',\n",
              " 'dressprettyonce',\n",
              " 'driving',\n",
              " 'drone',\n",
              " 'drones',\n",
              " 'drop',\n",
              " 'drugs',\n",
              " 'drunk',\n",
              " 'dubstep',\n",
              " 'dumb',\n",
              " 'dunno',\n",
              " 'during',\n",
              " 'duty',\n",
              " 'dylan',\n",
              " 'earn',\n",
              " 'earth',\n",
              " 'easily',\n",
              " 'easy',\n",
              " 'easypromosapp',\n",
              " 'ebay',\n",
              " 'ede05ea397ca',\n",
              " 'editor',\n",
              " 'edm',\n",
              " 'eeccon',\n",
              " 'effects',\n",
              " 'effort',\n",
              " 'ehi',\n",
              " 'ejw9kvkoxdamqm808h5z',\n",
              " 'elevator',\n",
              " 'eliminate',\n",
              " 'emerson_zanol',\n",
              " 'end',\n",
              " 'english',\n",
              " 'enimen',\n",
              " 'enjoy',\n",
              " 'enough',\n",
              " 'enter',\n",
              " 'entertaining',\n",
              " 'entire',\n",
              " 'epic',\n",
              " 'equals',\n",
              " 'ermail',\n",
              " 'esteem',\n",
              " 'etc',\n",
              " 'eugenekalinin',\n",
              " 'eve',\n",
              " 'even',\n",
              " 'event',\n",
              " 'ever',\n",
              " 'every',\n",
              " 'everyday',\n",
              " 'everyone',\n",
              " 'everyones',\n",
              " 'everything',\n",
              " 'ex',\n",
              " 'excuse',\n",
              " 'expectations',\n",
              " 'expensive',\n",
              " 'experiments',\n",
              " 'explore',\n",
              " 'exposure',\n",
              " 'eyebrows',\n",
              " 'eyes',\n",
              " 'f7',\n",
              " 'fablife',\n",
              " 'face',\n",
              " 'facebook',\n",
              " 'facts',\n",
              " 'fail',\n",
              " 'fake',\n",
              " 'family',\n",
              " 'fanboys',\n",
              " 'fantastic',\n",
              " 'far',\n",
              " 'fashionable',\n",
              " 'fb',\n",
              " 'featured',\n",
              " 'feedback',\n",
              " 'feel',\n",
              " 'festival',\n",
              " 'few',\n",
              " 'fighting',\n",
              " 'figure',\n",
              " 'find',\n",
              " 'fire',\n",
              " 'fireball',\n",
              " 'first',\n",
              " 'fish',\n",
              " 'flipagram',\n",
              " 'flute',\n",
              " 'fly',\n",
              " 'follow',\n",
              " 'follower',\n",
              " 'football',\n",
              " 'for',\n",
              " 'forget',\n",
              " 'foto',\n",
              " 'found',\n",
              " 'four',\n",
              " 'freddy',\n",
              " 'free',\n",
              " 'freemyapps',\n",
              " 'french',\n",
              " 'friend',\n",
              " 'friends',\n",
              " 'frigea',\n",
              " 'from',\n",
              " 'fruity',\n",
              " 'fuck',\n",
              " 'fucked',\n",
              " 'fucken',\n",
              " 'fucking',\n",
              " 'fudairyqueen',\n",
              " 'fuego',\n",
              " 'fun',\n",
              " 'funnier',\n",
              " 'funny',\n",
              " 'funnytortspics',\n",
              " 'future',\n",
              " 'gabriel',\n",
              " 'game',\n",
              " 'games',\n",
              " 'gamestop',\n",
              " 'gaming',\n",
              " 'ganga',\n",
              " 'gangam',\n",
              " 'gangman',\n",
              " 'gangnam',\n",
              " 'gangnamstyle',\n",
              " 'gatti',\n",
              " 'gay',\n",
              " 'gbphotographygb',\n",
              " 'gcmforex',\n",
              " 'get',\n",
              " 'gets',\n",
              " 'getting',\n",
              " 'ghost',\n",
              " 'gift',\n",
              " 'girl',\n",
              " 'girls',\n",
              " 'give',\n",
              " 'giveaways',\n",
              " 'giver',\n",
              " 'glasses',\n",
              " 'go',\n",
              " 'goal',\n",
              " 'goes',\n",
              " 'gofundme',\n",
              " 'going',\n",
              " 'gonna',\n",
              " 'good',\n",
              " 'goodbye',\n",
              " 'google',\n",
              " 'gook',\n",
              " 'got',\n",
              " 'gotta',\n",
              " 'gotten',\n",
              " 'government',\n",
              " 'gp',\n",
              " 'grateful',\n",
              " 'great',\n",
              " 'greetings',\n",
              " 'group',\n",
              " 'grow',\n",
              " 'grwmps',\n",
              " 'gt',\n",
              " 'gta5',\n",
              " 'guardalo',\n",
              " 'gun',\n",
              " 'guy',\n",
              " 'guys',\n",
              " 'gvr7xg',\n",
              " 'gwar',\n",
              " 'hacked',\n",
              " 'hackers',\n",
              " 'hackfbaccountlive',\n",
              " 'had',\n",
              " 'haha',\n",
              " 'hahah',\n",
              " 'hahahahah',\n",
              " 'hair',\n",
              " 'half',\n",
              " 'halftime',\n",
              " 'halp',\n",
              " 'happy',\n",
              " 'hard',\n",
              " 'has',\n",
              " 'hassle',\n",
              " 'hate',\n",
              " 'haters',\n",
              " 'hav',\n",
              " 'have',\n",
              " 'having',\n",
              " 'he',\n",
              " 'head',\n",
              " 'headbutt',\n",
              " 'hear',\n",
              " 'heart',\n",
              " 'heck',\n",
              " 'hello',\n",
              " 'help',\n",
              " 'her',\n",
              " 'here',\n",
              " 'hey',\n",
              " 'hi',\n",
              " 'high',\n",
              " 'him',\n",
              " 'hip',\n",
              " 'his',\n",
              " 'history',\n",
              " 'hit',\n",
              " 'hits',\n",
              " 'hl',\n",
              " 'hole',\n",
              " 'holy',\n",
              " 'hop',\n",
              " 'hope',\n",
              " 'hoppa',\n",
              " 'hour',\n",
              " 'how',\n",
              " 'html',\n",
              " 'http',\n",
              " 'https',\n",
              " 'huge',\n",
              " 'huh',\n",
              " 'humanity',\n",
              " 'hunger',\n",
              " 'hw',\n",
              " 'hwang',\n",
              " 'hyperurl',\n",
              " 'hyuna',\n",
              " 'ice',\n",
              " 'id',\n",
              " 'idea',\n",
              " 'ie',\n",
              " 'if',\n",
              " 'ig',\n",
              " 'il',\n",
              " 'ill',\n",
              " 'illuminati',\n",
              " 'im',\n",
              " 'image2you',\n",
              " 'imagine',\n",
              " 'improve',\n",
              " 'in',\n",
              " 'including',\n",
              " 'incmedia',\n",
              " 'indiegogo',\n",
              " 'inspired',\n",
              " 'instagram',\n",
              " 'instagraml',\n",
              " 'internet',\n",
              " 'into',\n",
              " 'inviting',\n",
              " 'io',\n",
              " 'iphone',\n",
              " 'iq2',\n",
              " 'irl',\n",
              " 'is',\n",
              " 'isn',\n",
              " 'isnt',\n",
              " 'it',\n",
              " 'ithat',\n",
              " 'itm',\n",
              " 'its',\n",
              " 'itunes',\n",
              " 'itz',\n",
              " 'jackal',\n",
              " 'jackson',\n",
              " 'jae',\n",
              " 'james',\n",
              " 'jap',\n",
              " 'jaroadc',\n",
              " 'jb',\n",
              " 'jelly',\n",
              " 'jellyfish',\n",
              " 'jenny',\n",
              " 'job',\n",
              " 'join',\n",
              " 'joint2',\n",
              " 'joke',\n",
              " 'joking',\n",
              " 'jr',\n",
              " 'jtcjnmho',\n",
              " 'juice',\n",
              " 'julie',\n",
              " 'julien',\n",
              " 'juno',\n",
              " 'just',\n",
              " 'justin',\n",
              " 'juyk',\n",
              " 'jyp',\n",
              " 'k6a5xt',\n",
              " 'kamal',\n",
              " 'keep',\n",
              " 'keeps',\n",
              " 'keyword',\n",
              " 'kickstarter',\n",
              " 'kids',\n",
              " 'kidsmediausa',\n",
              " 'kidz',\n",
              " 'kind',\n",
              " 'kinda',\n",
              " 'king',\n",
              " 'knew',\n",
              " 'know',\n",
              " 'knows',\n",
              " 'kobyoshi02',\n",
              " 'kodysman',\n",
              " 'koean',\n",
              " 'kollektivet',\n",
              " 'korea',\n",
              " 'korean',\n",
              " 'koreans',\n",
              " 'kyle',\n",
              " 'l2649',\n",
              " 'l551h',\n",
              " 'la',\n",
              " 'lacked',\n",
              " 'lada',\n",
              " 'language',\n",
              " 'last',\n",
              " 'later',\n",
              " 'laugh',\n",
              " 'launchpad',\n",
              " 'lazy',\n",
              " 'leader',\n",
              " 'league',\n",
              " 'leah',\n",
              " 'learn',\n",
              " 'least',\n",
              " 'leave',\n",
              " 'left',\n",
              " 'let',\n",
              " 'lets',\n",
              " 'lexis',\n",
              " 'like',\n",
              " 'liked',\n",
              " 'likes',\n",
              " 'liking',\n",
              " 'limit',\n",
              " 'ling',\n",
              " 'link',\n",
              " 'linkbucks',\n",
              " 'listen',\n",
              " 'listening',\n",
              " 'listing',\n",
              " 'lists',\n",
              " 'little',\n",
              " 'littlebrother',\n",
              " 'live',\n",
              " 'll',\n",
              " 'lnuj',\n",
              " 'lol',\n",
              " 'long',\n",
              " 'look',\n",
              " 'looking',\n",
              " 'looks',\n",
              " 'lool',\n",
              " 'loool',\n",
              " 'loops',\n",
              " 'lordviperas',\n",
              " 'lot',\n",
              " 'lots',\n",
              " 'love',\n",
              " 'loved',\n",
              " 'loving',\n",
              " 'low',\n",
              " 'lt',\n",
              " 'lucas',\n",
              " 'lucks',\n",
              " 'luka1qmrhf',\n",
              " 'luther',\n",
              " 'lyrics',\n",
              " 'm1555',\n",
              " 'mabey',\n",
              " 'made',\n",
              " 'make',\n",
              " 'making',\n",
              " 'man',\n",
              " 'management',\n",
              " 'many',\n",
              " 'mario',\n",
              " 'marius',\n",
              " 'market',\n",
              " 'marketglory',\n",
              " 'markusmairhofer',\n",
              " 'martin',\n",
              " 'mathster',\n",
              " 'may',\n",
              " 'me',\n",
              " 'mean',\n",
              " 'mee',\n",
              " 'meets',\n",
              " 'members',\n",
              " 'memories',\n",
              " 'men',\n",
              " 'mercury',\n",
              " 'meselx',\n",
              " 'michael',\n",
              " 'miley',\n",
              " 'milions',\n",
              " 'million',\n",
              " 'millions',\n",
              " 'millioon',\n",
              " 'millisecond',\n",
              " 'millon',\n",
              " 'min',\n",
              " 'mind',\n",
              " 'mine',\n",
              " 'minecraft',\n",
              " 'minoo',\n",
              " 'minutes',\n",
              " 'miss',\n",
              " 'mix',\n",
              " 'model',\n",
              " 'mom',\n",
              " 'mon',\n",
              " 'money',\n",
              " 'monkey',\n",
              " 'monkeys',\n",
              " 'montages',\n",
              " 'month',\n",
              " 'months',\n",
              " 'more',\n",
              " 'morgage',\n",
              " 'moroccan',\n",
              " 'most',\n",
              " 'mother',\n",
              " 'moved',\n",
              " 'movie',\n",
              " 'mp3s',\n",
              " 'ms',\n",
              " 'mscalifornia95',\n",
              " 'msmarilynmiles',\n",
              " 'much',\n",
              " 'multiple',\n",
              " 'murdev',\n",
              " 'music',\n",
              " 'must',\n",
              " 'mute',\n",
              " 'my',\n",
              " 'myself',\n",
              " 'nail',\n",
              " 'nails',\n",
              " 'name',\n",
              " 'national',\n",
              " 'necks',\n",
              " 'need',\n",
              " 'neon',\n",
              " 'net',\n",
              " 'network',\n",
              " 'never',\n",
              " 'new',\n",
              " 'newest',\n",
              " 'news',\n",
              " 'next',\n",
              " 'nice',\n",
              " 'nicushorbboy',\n",
              " 'night',\n",
              " 'nike',\n",
              " 'ninja',\n",
              " 'no',\n",
              " 'non',\n",
              " 'norrus',\n",
              " 'not',\n",
              " 'notch',\n",
              " 'now',\n",
              " 'number',\n",
              " 'numbers',\n",
              " 'obsessed',\n",
              " 'odowd',\n",
              " 'of',\n",
              " 'off',\n",
              " 'offer',\n",
              " 'officialpsy',\n",
              " 'offset',\n",
              " 'offıcal',\n",
              " 'often',\n",
              " 'old',\n",
              " 'older',\n",
              " 'olds',\n",
              " 'oldspice',\n",
              " 'olp_tab_refurbished',\n",
              " 'omg',\n",
              " 'on',\n",
              " 'once',\n",
              " 'oncueapparel',\n",
              " 'one',\n",
              " 'only',\n",
              " 'oppa',\n",
              " 'or',\n",
              " 'org',\n",
              " 'other',\n",
              " 'our',\n",
              " 'out',\n",
              " 'outfit',\n",
              " 'ovbiously',\n",
              " 'over',\n",
              " 'own',\n",
              " 'p3984',\n",
              " 'page',\n",
              " 'pages',\n",
              " 'paid',\n",
              " 'pal',\n",
              " 'pan',\n",
              " 'pants',\n",
              " 'part',\n",
              " 'partners',\n",
              " 'party',\n",
              " 'passed',\n",
              " 'pause',\n",
              " 'pay',\n",
              " 'pazzi',\n",
              " 'pdf',\n",
              " 'pe',\n",
              " 'peace',\n",
              " 'penis',\n",
              " 'people',\n",
              " 'peoples',\n",
              " 'perfect',\n",
              " 'perform',\n",
              " 'permpage',\n",
              " 'person',\n",
              " 'petition',\n",
              " 'petitions',\n",
              " 'phenomena',\n",
              " 'photo',\n",
              " 'photos',\n",
              " 'php',\n",
              " 'pictures',\n",
              " 'piece',\n",
              " 'pivot',\n",
              " 'pl',\n",
              " 'place',\n",
              " 'plan',\n",
              " 'planet',\n",
              " 'platform',\n",
              " 'play',\n",
              " 'please',\n",
              " 'plizz',\n",
              " 'pls',\n",
              " 'plus',\n",
              " 'plz',\n",
              " 'pnref',\n",
              " 'po',\n",
              " 'point',\n",
              " 'pop',\n",
              " 'popaegis',\n",
              " 'popular',\n",
              " 'population',\n",
              " 'populatoin',\n",
              " 'portfolio',\n",
              " 'post',\n",
              " 'posting',\n",
              " 'posts',\n",
              " 'pouring',\n",
              " 'pplease',\n",
              " 'pray',\n",
              " 'praying',\n",
              " 'prehistoric',\n",
              " 'premium',\n",
              " 'pretty',\n",
              " 'preview',\n",
              " 'pride',\n",
              " 'problem',\n",
              " 'prod',\n",
              " 'producer',\n",
              " 'project',\n",
              " 'projects',\n",
              " 'promise',\n",
              " ...]"
            ]
          },
          "metadata": {},
          "execution_count": 15
        }
      ]
    },
    {
      "cell_type": "code",
      "source": [
        "dshuf = d.sample(frac=1)"
      ],
      "metadata": {
        "id": "p70Ir--08iOU"
      },
      "execution_count": null,
      "outputs": []
    },
    {
      "cell_type": "code",
      "source": [
        "d_train = dshuf[:300]\n",
        "d_test = dshuf[300:]\n",
        "d_train_att = vectorizer.fit_transform(d_train['CONTENT']) # fit bag-of-words on training set\n",
        "d_test_att = vectorizer.transform(d_test['CONTENT']) # reuse on testing set\n",
        "d_train_label = d_train['CLASS']\n",
        "d_test_label = d_test['CLASS']"
      ],
      "metadata": {
        "id": "yOfTAeg98ovC"
      },
      "execution_count": null,
      "outputs": []
    },
    {
      "cell_type": "code",
      "source": [
        "d_train_att"
      ],
      "metadata": {
        "colab": {
          "base_uri": "https://localhost:8080/"
        },
        "id": "qq1kghHz8u1q",
        "outputId": "46499d6d-4c79-45d5-d9e9-87fcf59fc1c0"
      },
      "execution_count": null,
      "outputs": [
        {
          "output_type": "execute_result",
          "data": {
            "text/plain": [
              "<300x1256 sparse matrix of type '<class 'numpy.int64'>'\n",
              "\twith 3709 stored elements in Compressed Sparse Row format>"
            ]
          },
          "metadata": {},
          "execution_count": 18
        }
      ]
    },
    {
      "cell_type": "code",
      "source": [
        "d_test_att"
      ],
      "metadata": {
        "colab": {
          "base_uri": "https://localhost:8080/"
        },
        "id": "HRZxbsWF4VSd",
        "outputId": "6c451d82-e978-4187-ca3c-d893aa485b71"
      },
      "execution_count": null,
      "outputs": [
        {
          "output_type": "execute_result",
          "data": {
            "text/plain": [
              "<50x1256 sparse matrix of type '<class 'numpy.int64'>'\n",
              "\twith 475 stored elements in Compressed Sparse Row format>"
            ]
          },
          "metadata": {},
          "execution_count": 19
        }
      ]
    },
    {
      "cell_type": "code",
      "source": [
        "from sklearn.ensemble import RandomForestClassifier\n",
        "clf = RandomForestClassifier(n_estimators=80)"
      ],
      "metadata": {
        "id": "ID3aNhRL4eME"
      },
      "execution_count": null,
      "outputs": []
    },
    {
      "cell_type": "code",
      "source": [
        "clf.fit(d_train_att, d_train_label)"
      ],
      "metadata": {
        "colab": {
          "base_uri": "https://localhost:8080/"
        },
        "id": "RNj6FGQr4iIr",
        "outputId": "d6f02658-91d3-419e-f75e-303e70e45613"
      },
      "execution_count": null,
      "outputs": [
        {
          "output_type": "execute_result",
          "data": {
            "text/plain": [
              "RandomForestClassifier(n_estimators=80)"
            ]
          },
          "metadata": {},
          "execution_count": 21
        }
      ]
    },
    {
      "cell_type": "code",
      "source": [
        "clf.score(d_test_att, d_test_label)"
      ],
      "metadata": {
        "colab": {
          "base_uri": "https://localhost:8080/"
        },
        "id": "Yw_IxTfI4kLw",
        "outputId": "3d469cbc-e827-464d-acad-839b5c472321"
      },
      "execution_count": null,
      "outputs": [
        {
          "output_type": "execute_result",
          "data": {
            "text/plain": [
              "0.96"
            ]
          },
          "metadata": {},
          "execution_count": 22
        }
      ]
    },
    {
      "cell_type": "code",
      "source": [
        "from sklearn.metrics import confusion_matrix\n",
        "pred_labels = clf.predict(d_test_att)\n",
        "confusion_matrix(d_test_label, pred_labels)"
      ],
      "metadata": {
        "colab": {
          "base_uri": "https://localhost:8080/"
        },
        "id": "O3V0sRur4qNy",
        "outputId": "56c3bf9b-64bf-41fc-c817-0318c897654d"
      },
      "execution_count": null,
      "outputs": [
        {
          "output_type": "execute_result",
          "data": {
            "text/plain": [
              "array([[26,  1],\n",
              "       [ 1, 22]])"
            ]
          },
          "metadata": {},
          "execution_count": 23
        }
      ]
    },
    {
      "cell_type": "code",
      "source": [
        "from sklearn.model_selection import cross_val_score\n",
        "scores = cross_val_score(clf, d_train_att, d_train_label, cv=5)\n",
        "print(\"Accuracy: %0.2f (+/- %0.2f)\" % (scores.mean(), scores.std() * 2))"
      ],
      "metadata": {
        "colab": {
          "base_uri": "https://localhost:8080/"
        },
        "id": "1YEPj-KA4sGb",
        "outputId": "c9052672-0e56-4c97-e2dc-032e1c2ace6a"
      },
      "execution_count": null,
      "outputs": [
        {
          "output_type": "stream",
          "name": "stdout",
          "text": [
            "Accuracy: 0.95 (+/- 0.06)\n"
          ]
        }
      ]
    },
    {
      "cell_type": "code",
      "source": [
        "d=pd.concat([pd.read_csv('/content/drive/MyDrive/YouTube-Spam-Collection-v1/Youtube01-Psy.csv'),\n",
        "             pd.read_csv('/content/drive/MyDrive/YouTube-Spam-Collection-v1/Youtube02-KatyPerry.csv'),\n",
        "             pd.read_csv(\"/content/drive/MyDrive/YouTube-Spam-Collection-v1//Youtube03-LMFAO.csv\"),\n",
        "             pd.read_csv('/content/drive/MyDrive/YouTube-Spam-Collection-v1/Youtube04-Eminem.csv'),\n",
        "             pd.read_csv('/content/drive/MyDrive/YouTube-Spam-Collection-v1/Youtube05-Shakira.csv')])"
      ],
      "metadata": {
        "id": "IPULxET44yNA"
      },
      "execution_count": null,
      "outputs": []
    },
    {
      "cell_type": "code",
      "source": [
        "len(d)"
      ],
      "metadata": {
        "colab": {
          "base_uri": "https://localhost:8080/"
        },
        "id": "2fT1ZqwM533A",
        "outputId": "88923270-5cda-4408-f1c8-2f336030b13c"
      },
      "execution_count": null,
      "outputs": [
        {
          "output_type": "execute_result",
          "data": {
            "text/plain": [
              "1956"
            ]
          },
          "metadata": {},
          "execution_count": 26
        }
      ]
    },
    {
      "cell_type": "code",
      "source": [
        "len(d.query('CLASS==0'))"
      ],
      "metadata": {
        "colab": {
          "base_uri": "https://localhost:8080/"
        },
        "id": "88MSyAIZ54ef",
        "outputId": "e18e5b6b-86c2-439b-de62-06d1687cadc8"
      },
      "execution_count": null,
      "outputs": [
        {
          "output_type": "execute_result",
          "data": {
            "text/plain": [
              "951"
            ]
          },
          "metadata": {},
          "execution_count": 27
        }
      ]
    },
    {
      "cell_type": "code",
      "source": [
        "len(d.query('CLASS==1'))"
      ],
      "metadata": {
        "colab": {
          "base_uri": "https://localhost:8080/"
        },
        "id": "bVf-QYRr58u1",
        "outputId": "532c38c2-c850-4fc5-e9c3-98844403fe53"
      },
      "execution_count": null,
      "outputs": [
        {
          "output_type": "execute_result",
          "data": {
            "text/plain": [
              "1005"
            ]
          },
          "metadata": {},
          "execution_count": 28
        }
      ]
    },
    {
      "cell_type": "code",
      "source": [
        "dshuf = d.sample(frac=1)\n",
        "d_content = dshuf['CONTENT']\n",
        "d_label = dshuf['CLASS']"
      ],
      "metadata": {
        "id": "UX9c3s_p5-v1"
      },
      "execution_count": null,
      "outputs": []
    },
    {
      "cell_type": "code",
      "source": [
        "from sklearn.pipeline import Pipeline, make_pipeline\n",
        "pipeline = Pipeline([\n",
        "    ('bag-of-words', CountVectorizer()),\n",
        "    ('random forest', RandomForestClassifier()),\n",
        "])\n",
        "pipeline"
      ],
      "metadata": {
        "colab": {
          "base_uri": "https://localhost:8080/"
        },
        "id": "j_YFjU--6BZl",
        "outputId": "4c6fa25b-b011-4ba8-afbf-5c2ace94f0b6"
      },
      "execution_count": null,
      "outputs": [
        {
          "output_type": "execute_result",
          "data": {
            "text/plain": [
              "Pipeline(steps=[('bag-of-words', CountVectorizer()),\n",
              "                ('random forest', RandomForestClassifier())])"
            ]
          },
          "metadata": {},
          "execution_count": 30
        }
      ]
    },
    {
      "cell_type": "code",
      "source": [
        "make_pipeline(CountVectorizer(), RandomForestClassifier())"
      ],
      "metadata": {
        "colab": {
          "base_uri": "https://localhost:8080/"
        },
        "id": "chvmoh-P6E7F",
        "outputId": "d19c6a02-266a-4b6d-93b0-3e4605339fed"
      },
      "execution_count": null,
      "outputs": [
        {
          "output_type": "execute_result",
          "data": {
            "text/plain": [
              "Pipeline(steps=[('countvectorizer', CountVectorizer()),\n",
              "                ('randomforestclassifier', RandomForestClassifier())])"
            ]
          },
          "metadata": {},
          "execution_count": 31
        }
      ]
    },
    {
      "cell_type": "code",
      "source": [
        "pipeline.fit(d_content[:1500],d_label[:1500])"
      ],
      "metadata": {
        "colab": {
          "base_uri": "https://localhost:8080/"
        },
        "id": "0O9PG0606OE1",
        "outputId": "c5c2617c-02eb-416e-cfc5-ad2f5abd01e8"
      },
      "execution_count": null,
      "outputs": [
        {
          "output_type": "execute_result",
          "data": {
            "text/plain": [
              "Pipeline(steps=[('bag-of-words', CountVectorizer()),\n",
              "                ('random forest', RandomForestClassifier())])"
            ]
          },
          "metadata": {},
          "execution_count": 32
        }
      ]
    },
    {
      "cell_type": "code",
      "source": [
        "pipeline.score(d_content[1500:], d_label[1500:])"
      ],
      "metadata": {
        "colab": {
          "base_uri": "https://localhost:8080/"
        },
        "id": "D2_KER_m68gC",
        "outputId": "2e87b076-ce30-4cbd-cf2b-1556ae558408"
      },
      "execution_count": null,
      "outputs": [
        {
          "output_type": "execute_result",
          "data": {
            "text/plain": [
              "0.9649122807017544"
            ]
          },
          "metadata": {},
          "execution_count": 33
        }
      ]
    },
    {
      "cell_type": "code",
      "source": [
        "pipeline.predict([\"what a neat video!\"])"
      ],
      "metadata": {
        "colab": {
          "base_uri": "https://localhost:8080/"
        },
        "id": "E4RGFaEs7IHh",
        "outputId": "a9043748-c423-4b07-fe7d-24a1c9bf5251"
      },
      "execution_count": null,
      "outputs": [
        {
          "output_type": "execute_result",
          "data": {
            "text/plain": [
              "array([0])"
            ]
          },
          "metadata": {},
          "execution_count": 34
        }
      ]
    },
    {
      "cell_type": "code",
      "source": [
        "pipeline.predict([\"plz subscribe to my channel\"])"
      ],
      "metadata": {
        "colab": {
          "base_uri": "https://localhost:8080/"
        },
        "id": "eqlr-6nc7RFE",
        "outputId": "701b7519-aaba-474c-c208-ec9b8a31b089"
      },
      "execution_count": null,
      "outputs": [
        {
          "output_type": "execute_result",
          "data": {
            "text/plain": [
              "array([1])"
            ]
          },
          "metadata": {},
          "execution_count": 35
        }
      ]
    },
    {
      "cell_type": "code",
      "source": [
        "scores = cross_val_score(pipeline, d_content, d_label, cv=5)\n",
        "print(\"Accuracy: %0.2f (+/- %0.2f)\" % (scores.mean(), scores.std() * 2))"
      ],
      "metadata": {
        "colab": {
          "base_uri": "https://localhost:8080/"
        },
        "id": "KlnaZ9XS7iIJ",
        "outputId": "5aa90d81-a761-4d51-d274-3fe414caf328"
      },
      "execution_count": null,
      "outputs": [
        {
          "output_type": "stream",
          "name": "stdout",
          "text": [
            "Accuracy: 0.96 (+/- 0.02)\n"
          ]
        }
      ]
    },
    {
      "cell_type": "code",
      "source": [
        "# add tfidf\n",
        "from sklearn.feature_extraction.text import TfidfTransformer\n",
        "pipeline2 = make_pipeline(CountVectorizer(),\n",
        "                          TfidfTransformer(norm=None),\n",
        "                          RandomForestClassifier())"
      ],
      "metadata": {
        "id": "Uu4Ji3fV7ohi"
      },
      "execution_count": null,
      "outputs": []
    },
    {
      "cell_type": "code",
      "source": [
        "scores = cross_val_score(pipeline2, d_content, d_label, cv=5)\n",
        "print(\"Accuracy: %0.2f (+/- %0.2f)\" % (scores.mean(), scores.std() * 2))"
      ],
      "metadata": {
        "colab": {
          "base_uri": "https://localhost:8080/"
        },
        "id": "YUIOlyrZ7qNt",
        "outputId": "9edee39e-b85e-4f82-d9aa-93fd0984b6d6"
      },
      "execution_count": null,
      "outputs": [
        {
          "output_type": "stream",
          "name": "stdout",
          "text": [
            "Accuracy: 0.96 (+/- 0.02)\n"
          ]
        }
      ]
    },
    {
      "cell_type": "code",
      "source": [
        "pipeline2.steps"
      ],
      "metadata": {
        "colab": {
          "base_uri": "https://localhost:8080/"
        },
        "id": "0rv4eBMo7wRo",
        "outputId": "0cbef5a7-597c-433c-b892-4667e1f1cb2d"
      },
      "execution_count": null,
      "outputs": [
        {
          "output_type": "execute_result",
          "data": {
            "text/plain": [
              "[('countvectorizer', CountVectorizer()),\n",
              " ('tfidftransformer', TfidfTransformer(norm=None)),\n",
              " ('randomforestclassifier', RandomForestClassifier())]"
            ]
          },
          "metadata": {},
          "execution_count": 39
        }
      ]
    },
    {
      "cell_type": "code",
      "source": [
        "# parameter search\n",
        "parameters = {\n",
        "    'countvectorizer__max_features': (None, 1000, 2000),\n",
        "    'countvectorizer__ngram_range': ((1, 1), (1, 2)),  # unigrams or bigrams\n",
        "    'countvectorizer__stop_words': ('english', None),\n",
        "    'tfidftransformer__use_idf': (True, False), # effectively turn on/off tfidf\n",
        "    'randomforestclassifier__n_estimators': (20, 50, 100)\n",
        "}\n",
        "from sklearn.model_selection import GridSearchCV\n",
        "grid_search = GridSearchCV(pipeline2, parameters, n_jobs=-1, verbose=1)"
      ],
      "metadata": {
        "id": "N1fK0Qdf74DY"
      },
      "execution_count": null,
      "outputs": []
    },
    {
      "cell_type": "code",
      "source": [
        "grid_search.fit(d_content, d_label)"
      ],
      "metadata": {
        "colab": {
          "base_uri": "https://localhost:8080/"
        },
        "id": "3NirZbSX76ua",
        "outputId": "5c348016-0264-4332-87f8-3a7e850de93f"
      },
      "execution_count": null,
      "outputs": [
        {
          "output_type": "stream",
          "name": "stdout",
          "text": [
            "Fitting 5 folds for each of 72 candidates, totalling 360 fits\n"
          ]
        },
        {
          "output_type": "execute_result",
          "data": {
            "text/plain": [
              "GridSearchCV(estimator=Pipeline(steps=[('countvectorizer', CountVectorizer()),\n",
              "                                       ('tfidftransformer',\n",
              "                                        TfidfTransformer(norm=None)),\n",
              "                                       ('randomforestclassifier',\n",
              "                                        RandomForestClassifier())]),\n",
              "             n_jobs=-1,\n",
              "             param_grid={'countvectorizer__max_features': (None, 1000, 2000),\n",
              "                         'countvectorizer__ngram_range': ((1, 1), (1, 2)),\n",
              "                         'countvectorizer__stop_words': ('english', None),\n",
              "                         'randomforestclassifier__n_estimators': (20, 50, 100),\n",
              "                         'tfidftransformer__use_idf': (True, False)},\n",
              "             verbose=1)"
            ]
          },
          "metadata": {},
          "execution_count": 41
        }
      ]
    },
    {
      "cell_type": "code",
      "source": [
        "print(\"Best score: %0.3f\" % grid_search.best_score_)\n",
        "print(\"Best parameters set:\")\n",
        "best_parameters = grid_search.best_estimator_.get_params()\n",
        "for param_name in sorted(parameters.keys()):\n",
        "    print(\"\\t%s: %r\" % (param_name, best_parameters[param_name]))"
      ],
      "metadata": {
        "colab": {
          "base_uri": "https://localhost:8080/"
        },
        "id": "xN0-AiEyJM0Q",
        "outputId": "2c0e5b82-b5ef-40c2-b2f5-d516a6752987"
      },
      "execution_count": null,
      "outputs": [
        {
          "output_type": "stream",
          "name": "stdout",
          "text": [
            "Best score: 0.963\n",
            "Best parameters set:\n",
            "\tcountvectorizer__max_features: 1000\n",
            "\tcountvectorizer__ngram_range: (1, 2)\n",
            "\tcountvectorizer__stop_words: None\n",
            "\trandomforestclassifier__n_estimators: 50\n",
            "\ttfidftransformer__use_idf: True\n"
          ]
        }
      ]
    },
    {
      "cell_type": "markdown",
      "source": [
        "##Detecting positive and negative sentiments in user reviews"
      ],
      "metadata": {
        "id": "50nXS7kyKTJX"
      }
    },
    {
      "cell_type": "code",
      "source": [
        "import gensim\n",
        "from gensim.models import word2vec\n",
        "from gensim.models import KeyedVectors\n",
        "from sklearn.metrics.pairwise import cosine_similarity"
      ],
      "metadata": {
        "id": "A3vGsvWAKact"
      },
      "execution_count": null,
      "outputs": []
    },
    {
      "cell_type": "code",
      "source": [
        "logging.basicConfig(format='%(asctime)s : %(levelname)s : %(message)s', level=logging.INFO)"
      ],
      "metadata": {
        "id": "kp5b5Hn4LczZ"
      },
      "execution_count": null,
      "outputs": []
    },
    {
      "cell_type": "code",
      "source": [
        "!wget -P /root/input/ -c \"https://s3.amazonaws.com/dl4j-distribution/GoogleNews-vectors-negative300.bin.gz\""
      ],
      "metadata": {
        "colab": {
          "base_uri": "https://localhost:8080/"
        },
        "id": "A3xqGxgxLgRR",
        "outputId": "48296d33-e54c-4933-9103-db6daebf078c"
      },
      "execution_count": null,
      "outputs": [
        {
          "output_type": "stream",
          "name": "stdout",
          "text": [
            "--2022-07-11 12:28:33--  https://s3.amazonaws.com/dl4j-distribution/GoogleNews-vectors-negative300.bin.gz\n",
            "Resolving s3.amazonaws.com (s3.amazonaws.com)... 52.217.41.102\n",
            "Connecting to s3.amazonaws.com (s3.amazonaws.com)|52.217.41.102|:443... connected.\n",
            "HTTP request sent, awaiting response... 416 Requested Range Not Satisfiable\n",
            "\n",
            "    The file is already fully retrieved; nothing to do.\n",
            "\n"
          ]
        }
      ]
    },
    {
      "cell_type": "code",
      "source": [
        "gmodel = gensim.models.KeyedVectors.load_word2vec_format('GoogleNews-vectors-negative300.bin', binary=True)"
      ],
      "metadata": {
        "id": "wJKWIYRW4dwH"
      },
      "execution_count": null,
      "outputs": []
    },
    {
      "cell_type": "code",
      "source": [
        "gmodel['cat']"
      ],
      "metadata": {
        "id": "c98yVxUz4k2d"
      },
      "execution_count": null,
      "outputs": []
    },
    {
      "cell_type": "code",
      "source": [
        "gmodel['dog']"
      ],
      "metadata": {
        "id": "yuVIu8VA4m5j"
      },
      "execution_count": null,
      "outputs": []
    },
    {
      "cell_type": "code",
      "source": [
        "gmodel['spatula']"
      ],
      "metadata": {
        "id": "TKg8fEJb4-bJ"
      },
      "execution_count": null,
      "outputs": []
    },
    {
      "cell_type": "code",
      "source": [
        "gmodel.similarity('cat', 'dog')"
      ],
      "metadata": {
        "id": "2eJ4J1EW5BD6"
      },
      "execution_count": null,
      "outputs": []
    },
    {
      "cell_type": "code",
      "source": [
        "gmodel.similarity('cat', 'spatula')"
      ],
      "metadata": {
        "id": "J1MPT2wU5DXd"
      },
      "execution_count": null,
      "outputs": []
    },
    {
      "cell_type": "code",
      "source": [
        "from gensim.models.doc2vec import TaggedDocument\n",
        "from gensim.models import Doc2Vec"
      ],
      "metadata": {
        "id": "LJMksgj65FbJ"
      },
      "execution_count": null,
      "outputs": []
    },
    {
      "cell_type": "code",
      "source": [
        "def extract_words(sent):\n",
        "    sent = sent.lower()\n",
        "    sent = re.sub(r'<[^>]+>', ' ', sent) # strip html tags\n",
        "    sent = re.sub(r'(\\w)\\'(\\w)', '\\1\\2', sent) # remove apostrophes\n",
        "    sent = re.sub(r'\\W', ' ', sent) # remove punctuation\n",
        "    sent = re.sub(r'\\s+', ' ', sent) # remove repeated spaces\n",
        "    sent = sent.strip()\n",
        "    return sent.split()"
      ],
      "metadata": {
        "id": "HfafboXr5HLU"
      },
      "execution_count": null,
      "outputs": []
    },
    {
      "cell_type": "code",
      "source": [
        "# unsupervised training data\n",
        "import re\n",
        "import os\n",
        "unsup_sentences = []\n",
        "\n",
        "# source: http://ai.stanford.edu/~amaas/data/sentiment/, data from IMDB\n",
        "for dirname in [\"train/pos\", \"train/neg\", \"train/unsup\", \"test/pos\", \"test/neg\"]:\n",
        "    for fname in sorted(os.listdir(\"aclImdb/\" + dirname)):\n",
        "        if fname[-4:] == '.txt':\n",
        "            with open(\"aclImdb/\" + dirname + \"/\" + fname, encoding='UTF-8') as f:\n",
        "                sent = f.read()\n",
        "                words = extract_words(sent)\n",
        "                unsup_sentences.append(TaggedDocument(words, [dirname + \"/\" + fname]))\n",
        "\n",
        "# source: http://www.cs.cornell.edu/people/pabo/movie-review-data/\n",
        "for dirname in [\"review_polarity/txt_sentoken/pos\", \"review_polarity/txt_sentoken/neg\"]:\n",
        "    for fname in sorted(os.listdir(dirname)):\n",
        "        if fname[-4:] == '.txt':\n",
        "            with open(dirname + \"/\" + fname, encoding='UTF-8') as f:\n",
        "                for i, sent in enumerate(f):\n",
        "                    words = extract_words(sent)\n",
        "                    unsup_sentences.append(TaggedDocument(words, [\"%s/%s-%d\" % (dirname, fname, i)]))\n",
        "                \n",
        "# source: https://nlp.stanford.edu/sentiment/, data from Rotten Tomatoes\n",
        "with open(\"stanfordSentimentTreebank/original_rt_snippets.txt\", encoding='UTF-8') as f:\n",
        "    for i, line in enumerate(f):\n",
        "        words = extract_words(sent)\n",
        "        unsup_sentences.append(TaggedDocument(words, [\"rt-%d\" % i]))"
      ],
      "metadata": {
        "id": "FPKGykLF5sE7"
      },
      "execution_count": null,
      "outputs": []
    },
    {
      "cell_type": "code",
      "source": [],
      "metadata": {
        "id": "J2jbqETV5uUe"
      },
      "execution_count": null,
      "outputs": []
    },
    {
      "cell_type": "code",
      "source": [
        "import librosa\n",
        "import librosa.feature\n",
        "import librosa.display\n",
        "import glob\n",
        "import numpy as np\n",
        "import matplotlib.pyplot as plt\n",
        "from keras.models import Sequential\n",
        "from keras.layers import Dense, Activation\n",
        "from keras.utils.np_utils import to_categorical"
      ],
      "metadata": {
        "id": "UdNaXffxF7zl"
      },
      "execution_count": null,
      "outputs": []
    },
    {
      "cell_type": "code",
      "source": [
        "def display_mfcc(song):\n",
        "    y, _ = librosa.load(song)\n",
        "    mfcc = librosa.feature.mfcc(y)\n",
        "\n",
        "    plt.figure(figsize=(10, 4))\n",
        "    librosa.display.specshow(mfcc, x_axis='time', y_axis='mel')\n",
        "    plt.colorbar()\n",
        "    plt.title(song)\n",
        "    plt.tight_layout()\n",
        "    plt.show()"
      ],
      "metadata": {
        "id": "Uy-cinAPGIbg"
      },
      "execution_count": null,
      "outputs": []
    },
    {
      "cell_type": "code",
      "source": [
        "from google.colab import drive\n",
        "drive.mount('/content/drive')\n",
        "display_mfcc('/content/drive/MyDrive/genres/blues/blues.00000.au')"
      ],
      "metadata": {
        "colab": {
          "base_uri": "https://localhost:8080/",
          "height": 315
        },
        "id": "9nYeIQYQGJpe",
        "outputId": "2270bdc6-df31-4d48-a5fd-65833d531bf8"
      },
      "execution_count": null,
      "outputs": [
        {
          "output_type": "stream",
          "name": "stdout",
          "text": [
            "Mounted at /content/drive\n"
          ]
        },
        {
          "output_type": "display_data",
          "data": {
            "text/plain": [
              "<Figure size 720x288 with 2 Axes>"
            ],
            "image/png": "[encoded data removed]"
          },
          "metadata": {
            "needs_background": "light"
          }
        }
      ]
    },
    {
      "cell_type": "code",
      "source": [
        "def extract_features_song(f):\n",
        "    y, _ = librosa.load(f)\n",
        "\n",
        "    # get Mel-frequency cepstral coefficients\n",
        "    mfcc = librosa.feature.mfcc(y)\n",
        "    # normalize values between -1,1 (divide by max)\n",
        "    mfcc /= np.amax(np.absolute(mfcc))\n",
        "\n",
        "    return np.ndarray.flatten(mfcc)[:25000]"
      ],
      "metadata": {
        "id": "lrOmk0nxe-pL"
      },
      "execution_count": null,
      "outputs": []
    },
    {
      "cell_type": "code",
      "source": [
        "def generate_features_and_labels():\n",
        "    all_features = []\n",
        "    all_labels = []\n",
        "\n",
        "    genres = ['blues', 'classical', 'country', 'disco', 'hiphop', 'jazz', 'metal', 'pop', 'reggae', 'rock']\n",
        "    for genre in genres:\n",
        "        sound_files = glob.glob('/content/drive/MyDrive/genres/'+genre+'/*.au')\n",
        "        print('Processing %d songs in %s genre...' % (len(sound_files), genre))\n",
        "        for f in sound_files:\n",
        "            features = extract_features_song(f)\n",
        "            all_features.append(features)\n",
        "            all_labels.append(genre)\n",
        "\n",
        "    # convert labels to one-hot encoding\n",
        "    label_uniq_ids, label_row_ids = np.unique(all_labels, return_inverse=True)\n",
        "    label_row_ids = label_row_ids.astype(np.int32, copy=False)\n",
        "    onehot_labels = to_categorical(label_row_ids, len(label_uniq_ids))\n",
        "    return np.stack(all_features), onehot_labels"
      ],
      "metadata": {
        "id": "6igoxAw2e_tN"
      },
      "execution_count": null,
      "outputs": []
    },
    {
      "cell_type": "code",
      "source": [
        "features, labels = generate_features_and_labels()"
      ],
      "metadata": {
        "colab": {
          "base_uri": "https://localhost:8080/"
        },
        "id": "10QlxiCAfCIr",
        "outputId": "6e531109-4664-43ef-b8ea-83f301490095"
      },
      "execution_count": null,
      "outputs": [
        {
          "output_type": "stream",
          "name": "stdout",
          "text": [
            "Processing 100 songs in blues genre...\n",
            "Processing 100 songs in classical genre...\n",
            "Processing 100 songs in country genre...\n",
            "Processing 100 songs in disco genre...\n",
            "Processing 100 songs in hiphop genre...\n",
            "Processing 100 songs in jazz genre...\n",
            "Processing 100 songs in metal genre...\n",
            "Processing 100 songs in pop genre...\n",
            "Processing 100 songs in reggae genre...\n",
            "Processing 100 songs in rock genre...\n"
          ]
        }
      ]
    },
    {
      "cell_type": "code",
      "source": [
        "print(np.shape(features))\n",
        "print(np.shape(labels))\n",
        "\n",
        "training_split = 0.8\n",
        "\n",
        "# last column has genre, turn it into unique ids\n",
        "alldata = np.column_stack((features, labels))\n",
        "\n",
        "np.random.shuffle(alldata)\n",
        "splitidx = int(len(alldata) * training_split)\n",
        "train, test = alldata[:splitidx,:], alldata[splitidx:,:]\n",
        "\n",
        "print(np.shape(train))\n",
        "print(np.shape(test))\n",
        "\n",
        "train_input = train[:,:-10]\n",
        "train_labels = train[:,-10:]\n",
        "\n",
        "test_input = test[:,:-10]\n",
        "test_labels = test[:,-10:]\n",
        "\n",
        "print(np.shape(train_input))\n",
        "print(np.shape(train_labels))"
      ],
      "metadata": {
        "colab": {
          "base_uri": "https://localhost:8080/"
        },
        "id": "8YnN734Xpkhg",
        "outputId": "de1cb3cc-68f8-4dad-e8bb-05e4a22dd3c3"
      },
      "execution_count": null,
      "outputs": [
        {
          "output_type": "stream",
          "name": "stdout",
          "text": [
            "(1000, 25000)\n",
            "(1000, 10)\n",
            "(800, 25010)\n",
            "(200, 25010)\n",
            "(800, 25000)\n",
            "(800, 10)\n"
          ]
        }
      ]
    },
    {
      "cell_type": "code",
      "source": [
        "model = Sequential([\n",
        "    Dense(100, input_dim=np.shape(train_input)[1]),\n",
        "    Activation('relu'),\n",
        "    Dense(10),\n",
        "    Activation('softmax'),\n",
        "    ])\n",
        "\n",
        "model.compile(optimizer='adam',\n",
        "              loss='categorical_crossentropy',\n",
        "              metrics=['accuracy'])\n",
        "print(model.summary())\n",
        "\n",
        "model.fit(train_input, train_labels, epochs=10, batch_size=32,\n",
        "          validation_split=0.2)\n",
        "\n",
        "loss, acc = model.evaluate(test_input, test_labels, batch_size=32)\n",
        "\n",
        "print(\"Done!\")\n",
        "print(\"Loss: %.4f, accuracy: %.4f\" % (loss, acc))"
      ],
      "metadata": {
        "colab": {
          "base_uri": "https://localhost:8080/"
        },
        "id": "Wrpy00Dvpnq7",
        "outputId": "23c0f171-2055-4fbf-bee9-c532a36c30b6"
      },
      "execution_count": null,
      "outputs": [
        {
          "output_type": "stream",
          "name": "stdout",
          "text": [
            "Model: \"sequential_1\"\n",
            "_________________________________________________________________\n",
            " Layer (type)                Output Shape              Param #   \n",
            "=================================================================\n",
            " dense_2 (Dense)             (None, 100)               2500100   \n",
            "                                                                 \n",
            " activation_2 (Activation)   (None, 100)               0         \n",
            "                                                                 \n",
            " dense_3 (Dense)             (None, 10)                1010      \n",
            "                                                                 \n",
            " activation_3 (Activation)   (None, 10)                0         \n",
            "                                                                 \n",
            "=================================================================\n",
            "Total params: 2,501,110\n",
            "Trainable params: 2,501,110\n",
            "Non-trainable params: 0\n",
            "_________________________________________________________________\n",
            "None\n",
            "Epoch 1/10\n",
            "20/20 [==============================] - 1s 39ms/step - loss: 2.2147 - accuracy: 0.2562 - val_loss: 1.9201 - val_accuracy: 0.3250\n",
            "Epoch 2/10\n",
            "20/20 [==============================] - 1s 29ms/step - loss: 1.5580 - accuracy: 0.4391 - val_loss: 1.6973 - val_accuracy: 0.3562\n",
            "Epoch 3/10\n",
            "20/20 [==============================] - 1s 31ms/step - loss: 1.2514 - accuracy: 0.5797 - val_loss: 1.5150 - val_accuracy: 0.4437\n",
            "Epoch 4/10\n",
            "20/20 [==============================] - 1s 30ms/step - loss: 1.0201 - accuracy: 0.7250 - val_loss: 1.5018 - val_accuracy: 0.4437\n",
            "Epoch 5/10\n",
            "20/20 [==============================] - 1s 27ms/step - loss: 0.8686 - accuracy: 0.7875 - val_loss: 1.5343 - val_accuracy: 0.4688\n",
            "Epoch 6/10\n",
            "20/20 [==============================] - 1s 28ms/step - loss: 0.7327 - accuracy: 0.7984 - val_loss: 1.5976 - val_accuracy: 0.4187\n",
            "Epoch 7/10\n",
            "20/20 [==============================] - 1s 28ms/step - loss: 0.5814 - accuracy: 0.8828 - val_loss: 1.4218 - val_accuracy: 0.5250\n",
            "Epoch 8/10\n",
            "20/20 [==============================] - 1s 27ms/step - loss: 0.5069 - accuracy: 0.9062 - val_loss: 1.4254 - val_accuracy: 0.5188\n",
            "Epoch 9/10\n",
            "20/20 [==============================] - 1s 28ms/step - loss: 0.4239 - accuracy: 0.9172 - val_loss: 1.5839 - val_accuracy: 0.4563\n",
            "Epoch 10/10\n",
            "20/20 [==============================] - 1s 27ms/step - loss: 0.3432 - accuracy: 0.9469 - val_loss: 1.4426 - val_accuracy: 0.4688\n",
            "7/7 [==============================] - 0s 10ms/step - loss: 1.6191 - accuracy: 0.5000\n",
            "Done!\n",
            "Loss: 1.6191, accuracy: 0.5000\n"
          ]
        }
      ]
    }
  ]
}